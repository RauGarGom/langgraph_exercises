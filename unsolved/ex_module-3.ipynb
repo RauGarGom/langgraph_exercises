{
 "cells": [
  {
   "cell_type": "markdown",
   "metadata": {},
   "source": [
    "# Introduction to LangGraph - Module 3 exercises"
   ]
  },
  {
   "cell_type": "markdown",
   "metadata": {},
   "source": [
    "## Goals:\n",
    "Again, we're going to practise what we've been learning during Module 3.\n",
    "- We'll start by making a baseline graph with components from previous modules. It will be used throughout this block **(?)** of exercises.\n",
    "- We'll divide the tools into two sections: those that the model can use directly, and those that need a human supervision.\n",
    "- We'll also correct some of the information as a final user.\n",
    "- And, finally, we'll practise a little of time-travelling, by consulting the history of the states **(?)** and forking it into a new process.\n"
   ]
  },
  {
   "cell_type": "markdown",
   "metadata": {},
   "source": [
    "### 1.- Make a graph that can summarize the conversation when there are 3 messages or more, in the same fashion as in module 2:"
   ]
  },
  {
   "cell_type": "markdown",
   "metadata": {},
   "source": [
    "Use the same initial list of messages as a starting point and add/modify as needed for the tests."
   ]
  },
  {
   "cell_type": "code",
   "execution_count": 30,
   "metadata": {},
   "outputs": [],
   "source": [
    "messages = [\n",
    "    {\"role\": \"user\", \"content\": \"Hello\", \"notes\": None},\n",
    "    {\"role\": \"ai\", \"content\": \"Good morning, how are you?\", \"notes\": None},\n",
    "    {\"role\": \"user\", \"content\": \"Ok\", \"notes\": \"The user says they're ok\"},\n",
    "    {\"role\": \"ai\", \"content\": \"Perfect, thank you!\", \"notes\": None},\n",
    "    {\"role\": \"user\", \"content\": \"Can you help me with a problem?\", \"notes\": \"User requests assistance\"},\n",
    "    {\"role\": \"ai\", \"content\": \"Of course! What can I help you with?\", \"notes\": None},\n",
    "    {\"role\": \"user\", \"content\": \"I'm having trouble with my code\", \"notes\": \"User mentions coding issues\"},\n",
    "    {\"role\": \"ai\", \"content\": \"I'll be happy to help. Can you describe the problem?\", \"notes\": None},\n",
    "    {\"role\": \"user\", \"content\": \"It's about Python loops\", \"notes\": \"User specifies Python loops as the topic\"}\n",
    "]"
   ]
  },
  {
   "cell_type": "code",
   "execution_count": 31,
   "metadata": {},
   "outputs": [],
   "source": []
  },
  {
   "cell_type": "markdown",
   "metadata": {},
   "source": [
    "#### 1.1.- Include also one of the API tools created in module 1. Ensure everything works"
   ]
  },
  {
   "cell_type": "code",
   "execution_count": null,
   "metadata": {},
   "outputs": [],
   "source": []
  },
  {
   "cell_type": "markdown",
   "metadata": {},
   "source": [
    "##### Test 1: Summarizing the original convo"
   ]
  },
  {
   "cell_type": "code",
   "execution_count": null,
   "metadata": {},
   "outputs": [],
   "source": []
  },
  {
   "cell_type": "markdown",
   "metadata": {},
   "source": [
    "##### Test 2: Using the news tool"
   ]
  },
  {
   "cell_type": "code",
   "execution_count": 35,
   "metadata": {},
   "outputs": [],
   "source": [
    "messages = [\n",
    "    {\"role\": \"user\", \"content\": \"Hello\", \"notes\": None},\n",
    "    {\"role\": \"ai\", \"content\": \"Good morning, how are you?\", \"notes\": None},\n",
    "    {\"role\": \"user\", \"content\": \"Ok\", \"notes\": \"The user says they're ok\"},\n",
    "    {\"role\": \"ai\", \"content\": \"Perfect, thank you!\", \"notes\": None},\n",
    "    {\"role\": \"user\", \"content\": \"Can you help me with a problem?\", \"notes\": \"User requests assistance\"},\n",
    "    {\"role\": \"ai\", \"content\": \"Of course! What can I help you with?\", \"notes\": None},\n",
    "    {\"role\": \"user\", \"content\": \"What are the latest news about Madrid?\", \"notes\": \"User mentions coding issues\"}\n",
    "]"
   ]
  },
  {
   "cell_type": "code",
   "execution_count": null,
   "metadata": {},
   "outputs": [],
   "source": []
  },
  {
   "cell_type": "markdown",
   "metadata": {},
   "source": [
    "##### Test 3: News tool, no summarizer"
   ]
  },
  {
   "cell_type": "code",
   "execution_count": 37,
   "metadata": {},
   "outputs": [],
   "source": [
    "no_sum_messages = [\n",
    "    # {\"role\": \"user\", \"content\": \"Hello\", \"notes\": None},\n",
    "    # {\"role\": \"ai\", \"content\": \"Good morning, how are you?\", \"notes\": None},\n",
    "    # {\"role\": \"user\", \"content\": \"Ok\", \"notes\": \"The user says they're ok\"},\n",
    "    # {\"role\": \"ai\", \"content\": \"Perfect, thank you!\", \"notes\": None},\n",
    "    # {\"role\": \"user\", \"content\": \"Can you help me with a problem?\", \"notes\": \"User requests assistance\"},\n",
    "    # {\"role\": \"ai\", \"content\": \"Of course! What can I help you with?\", \"notes\": None},\n",
    "    {\"role\": \"user\", \"content\": \"What are the latest news about Madrid?\", \"notes\": \"User mentions coding issues\"}\n",
    "]"
   ]
  },
  {
   "cell_type": "code",
   "execution_count": null,
   "metadata": {},
   "outputs": [],
   "source": []
  },
  {
   "cell_type": "markdown",
   "metadata": {},
   "source": [
    "### 2.- Modify it so it streams the tokens of the messages. Does the core code of the graph change?"
   ]
  },
  {
   "cell_type": "code",
   "execution_count": null,
   "metadata": {},
   "outputs": [],
   "source": []
  },
  {
   "cell_type": "markdown",
   "metadata": {},
   "source": [
    "### 3.- APIs may not be free, so a human confirmation may be required. Make two simple math functions, and add them to the list of tools. Also, modify the API call function so we get a `NodeInterrupt` if an user doesn't approve its usage. The approval from the user must come by an `interrupt` / `command` primitive"
   ]
  },
  {
   "cell_type": "markdown",
   "metadata": {},
   "source": [
    "Hint: `interrupt` / `command` primitive isn't explained at this point of the course, but there's documentation on LangGraph docs for both [interrupt](https://langchain-ai.github.io/langgraph/concepts/human_in_the_loop/#review-tool-calls) and [command](https://langchain-ai.github.io/langgraph/reference/types/#langgraph.types.Command). I really think it's worth the extra time to learn to put proper user validations"
   ]
  },
  {
   "cell_type": "code",
   "execution_count": null,
   "metadata": {},
   "outputs": [],
   "source": []
  },
  {
   "cell_type": "markdown",
   "metadata": {},
   "source": [
    "#### 3.1.- Insert the new list of all tools to the model, and build the graph.\n",
    "\n",
    "Hint: `interrupt` and `get_state` need a checkpointer, remember to include it when compiling the graph!"
   ]
  },
  {
   "cell_type": "code",
   "execution_count": null,
   "metadata": {},
   "outputs": [],
   "source": []
  },
  {
   "cell_type": "markdown",
   "metadata": {},
   "source": [
    "#### 3.2.- Try the new graph! Make sure to include a thread_id, and work with `get_state` and `command` to resume the flow of the API call confirming its use"
   ]
  },
  {
   "cell_type": "code",
   "execution_count": null,
   "metadata": {},
   "outputs": [],
   "source": []
  },
  {
   "cell_type": "markdown",
   "metadata": {},
   "source": [
    "### 4.- We'd also like to check that the users are spelling the names of the cities correctly, or using the proper tools. Modify the query of the user *before* the graph uses the tool.\n",
    "\n",
    "**IMPORTANT**: use a different thread_id from previous exercises.\n",
    "\n",
    "Use `stream` so you can follow in a clearer way what's happening to each node."
   ]
  },
  {
   "cell_type": "code",
   "execution_count": null,
   "metadata": {},
   "outputs": [],
   "source": []
  },
  {
   "cell_type": "markdown",
   "metadata": {},
   "source": [
    "### 5.- Use the `get_state_history` to get all the snapshots of the original thread."
   ]
  },
  {
   "cell_type": "code",
   "execution_count": 73,
   "metadata": {},
   "outputs": [],
   "source": []
  },
  {
   "cell_type": "markdown",
   "metadata": {},
   "source": [
    "#### 5.1.- Replay the whole thread. How much time did you need? More or less than the original execution?"
   ]
  },
  {
   "cell_type": "code",
   "execution_count": null,
   "metadata": {},
   "outputs": [],
   "source": []
  },
  {
   "cell_type": "markdown",
   "metadata": {},
   "source": [
    "#### 5.2.- Now execute the thread with a new `checkpoint_id` and a new `HumanMessage`. More or less than the run on 5.1?"
   ]
  },
  {
   "cell_type": "code",
   "execution_count": null,
   "metadata": {},
   "outputs": [],
   "source": []
  }
 ],
 "metadata": {
  "kernelspec": {
   "display_name": "lc-academy-env-2",
   "language": "python",
   "name": "python3"
  },
  "language_info": {
   "codemirror_mode": {
    "name": "ipython",
    "version": 3
   },
   "file_extension": ".py",
   "mimetype": "text/x-python",
   "name": "python",
   "nbconvert_exporter": "python",
   "pygments_lexer": "ipython3",
   "version": "3.12.5"
  }
 },
 "nbformat": 4,
 "nbformat_minor": 2
}
