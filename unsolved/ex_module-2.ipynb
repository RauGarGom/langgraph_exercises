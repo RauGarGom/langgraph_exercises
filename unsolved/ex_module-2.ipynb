{
 "cells": [
  {
   "cell_type": "markdown",
   "metadata": {},
   "source": [
    "# Introduction to LangGraph - Module 2 exercises"
   ]
  },
  {
   "cell_type": "markdown",
   "metadata": {},
   "source": [
    "## Goals:\n",
    "We're going to test our knowledge after module 2 of Langgraph's course. Concretely:\n",
    "- Message trimming, filtering and summarization.\n",
    "- Multiple schemas.\n",
    "- Storage of the states in an external database.\n"
   ]
  },
  {
   "cell_type": "markdown",
   "metadata": {},
   "source": [
    "### 1.- You are given the following list of messages:"
   ]
  },
  {
   "cell_type": "code",
   "execution_count": 2,
   "metadata": {},
   "outputs": [],
   "source": [
    "messages = [\n",
    "    {\"role\": \"user\", \"content\": \"Hello\", \"notes\": None},\n",
    "    {\"role\": \"ai\", \"content\": \"Good morning, how are you?\", \"notes\": None},\n",
    "    {\"role\": \"user\", \"content\": \"Ok\", \"notes\": \"The user says they're ok\"},\n",
    "    {\"role\": \"ai\", \"content\": \"Perfect, thank you!\", \"notes\": None},\n",
    "    {\"role\": \"user\", \"content\": \"Can you help me with a problem?\", \"notes\": \"User requests assistance\"},\n",
    "    {\"role\": \"ai\", \"content\": \"Of course! What can I help you with?\", \"notes\": None},\n",
    "    {\"role\": \"user\", \"content\": \"I'm having trouble with my code\", \"notes\": \"User mentions coding issues\"},\n",
    "    {\"role\": \"ai\", \"content\": \"I'll be happy to help. Can you describe the problem?\", \"notes\": None},\n",
    "    {\"role\": \"user\", \"content\": \"It's about Python loops\", \"notes\": \"User specifies Python loops as the topic\"},\n",
    "    {\"role\": \"ai\", \"content\": \"Let's work through your Python loops question together.\", \"notes\": None}\n",
    "]"
   ]
  },
  {
   "cell_type": "markdown",
   "metadata": {},
   "source": [
    "Using Langchain's `trim_messages` function, make sure that you only keep the messages that account for **30** tokens. Make it ready to be used in a graph."
   ]
  },
  {
   "cell_type": "code",
   "execution_count": null,
   "metadata": {},
   "outputs": [],
   "source": []
  },
  {
   "cell_type": "markdown",
   "metadata": {},
   "source": [
    "### 2.- Create a graph that can store the last messages with a total of 30 tokens in an internal list. Show how it works"
   ]
  },
  {
   "cell_type": "markdown",
   "metadata": {},
   "source": [
    "**Hint**: You'll probably need a custom TypedDict class, since `MessagesState` always adds up new messages instead of replacing them"
   ]
  },
  {
   "cell_type": "code",
   "execution_count": 4,
   "metadata": {},
   "outputs": [],
   "source": []
  },
  {
   "cell_type": "markdown",
   "metadata": {},
   "source": [
    "#### 2.1.- What if we wanted to filter the messages using MessageState? Can you think on any way to do it? Leave only the messages trimmed by the original node."
   ]
  },
  {
   "cell_type": "code",
   "execution_count": null,
   "metadata": {},
   "outputs": [],
   "source": []
  },
  {
   "cell_type": "markdown",
   "metadata": {},
   "source": [
    "### 3.- We now want three-state multiple schema: \n",
    "- A state for the model to take as a briefing of the previous conversation (InputState).\n",
    "- A state that also includes two new keys: the number of the iterarion, and the first node to appear (OverallState).\n",
    "- A state that only shows a trimmed part of the conversarion, and the first node to appear (OutputState)."
   ]
  },
  {
   "cell_type": "markdown",
   "metadata": {},
   "source": [
    "#### 3.1.- Create the needed States. "
   ]
  },
  {
   "cell_type": "code",
   "execution_count": 9,
   "metadata": {},
   "outputs": [],
   "source": []
  },
  {
   "cell_type": "markdown",
   "metadata": {},
   "source": [
    "#### 3.2.- Create a condition that only trims the conversation if there are more than 2 messages"
   ]
  },
  {
   "cell_type": "code",
   "execution_count": 10,
   "metadata": {},
   "outputs": [],
   "source": []
  },
  {
   "cell_type": "markdown",
   "metadata": {},
   "source": [
    "#### 3.3.- Create and compile the new graph, separating a `trimmer_node` and an `answer_node`. Remember to include the `decide_trimmer` and the states created above."
   ]
  },
  {
   "cell_type": "code",
   "execution_count": null,
   "metadata": {},
   "outputs": [],
   "source": []
  },
  {
   "cell_type": "markdown",
   "metadata": {},
   "source": [
    "### 4.- Now we've got some other messages:"
   ]
  },
  {
   "cell_type": "code",
   "execution_count": 15,
   "metadata": {},
   "outputs": [],
   "source": [
    "messages = [\n",
    "    {\"role\": \"user\", \"content\": \"Hello\", \"notes\": None},\n",
    "    {\"role\": \"ai\", \"content\": \"Good morning, how are you?\", \"notes\": None},\n",
    "    {\"role\": \"user\", \"content\": \"Ok\", \"notes\": \"The user says they're ok\"},\n",
    "    {\"role\": \"ai\", \"content\": \"Perfect, thank you!\", \"notes\": None},\n",
    "    {\"role\": \"user\", \"content\": \"Can you help me with a problem?\", \"notes\": \"User requests assistance\"},\n",
    "    {\"role\": \"ai\", \"content\": \"Of course! What can I help you with?\", \"notes\": None},\n",
    "    {\"role\": \"user\", \"content\": \"I'm having trouble with my code\", \"notes\": \"User mentions coding issues\"},\n",
    "    {\"role\": \"ai\", \"content\": \"I'll be happy to help. Can you describe the problem?\", \"notes\": None},\n",
    "    {\"role\": \"user\", \"content\": \"It's about Python loops\", \"notes\": \"User specifies Python loops as the topic\"},\n",
    "    {\"role\": \"ai\", \"content\": \"Let's work through your Python loops question together.\", \"notes\": None},\n",
    "    {\"role\": \"user\", \"content\": \"How do I apply the same operation to each item in the collection without writing it out repeatedly?\", \"notes\":\"User is asking about the concept of iteration or looping in programming.\" }\n",
    "]"
   ]
  },
  {
   "cell_type": "markdown",
   "metadata": {},
   "source": [
    "Make a function that summarizes all the notes from the user. Include the message trimming used before."
   ]
  },
  {
   "cell_type": "code",
   "execution_count": 16,
   "metadata": {},
   "outputs": [],
   "source": []
  },
  {
   "cell_type": "markdown",
   "metadata": {},
   "source": [
    "### 5.- And build a new graph that includes the summarization as a node. The graph would only use the summarization node whenever there are more than 3 messages, and should also include the trimming of the messages. Make the necessary changes to the states to include the new \"summary\"\n"
   ]
  },
  {
   "cell_type": "markdown",
   "metadata": {},
   "source": [
    "Include the summary on the output so we can see it works"
   ]
  },
  {
   "cell_type": "code",
   "execution_count": 18,
   "metadata": {},
   "outputs": [],
   "source": []
  },
  {
   "cell_type": "markdown",
   "metadata": {},
   "source": [
    "### 6.- Now let's store all the messages in a SQLite database:"
   ]
  },
  {
   "cell_type": "markdown",
   "metadata": {},
   "source": [
    "#### 6.1.- Create a new .db file and create a new table called \"messages\". Do it with SQLite3."
   ]
  },
  {
   "cell_type": "code",
   "execution_count": 23,
   "metadata": {},
   "outputs": [],
   "source": []
  },
  {
   "cell_type": "markdown",
   "metadata": {},
   "source": [
    "#### 6.2.- Make a ckeckpointer with `SQLiteSaver`, and make the functions to call the model, and summarize the conversation coming from the database.\n"
   ]
  },
  {
   "cell_type": "code",
   "execution_count": null,
   "metadata": {},
   "outputs": [],
   "source": []
  },
  {
   "cell_type": "markdown",
   "metadata": {},
   "source": [
    "#### 6.3.- Give it a try! Use a thread_id and check that is saved locally. Use the original `messages` list."
   ]
  },
  {
   "cell_type": "code",
   "execution_count": null,
   "metadata": {},
   "outputs": [],
   "source": []
  }
 ],
 "metadata": {
  "kernelspec": {
   "display_name": "Python 3",
   "language": "python",
   "name": "python3"
  },
  "language_info": {
   "codemirror_mode": {
    "name": "ipython",
    "version": 3
   },
   "file_extension": ".py",
   "mimetype": "text/x-python",
   "name": "python",
   "nbconvert_exporter": "python",
   "pygments_lexer": "ipython3",
   "version": "3.12.5"
  }
 },
 "nbformat": 4,
 "nbformat_minor": 2
}
