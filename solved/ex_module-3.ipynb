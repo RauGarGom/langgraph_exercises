{
 "cells": [
  {
   "cell_type": "code",
   "execution_count": 29,
   "metadata": {},
   "outputs": [],
   "source": [
    "import os\n",
    "from dotenv import load_dotenv, find_dotenv\n",
    "from langchain_community.tools.tavily_search import TavilySearchResults\n",
    "from langchain_google_genai import ChatGoogleGenerativeAI\n",
    "from langgraph.checkpoint.memory import MemorySaver\n",
    "from langchain_core.messages import HumanMessage,RemoveMessage\n",
    "from langgraph.graph import START, StateGraph, END, MessagesState\n",
    "from langgraph.prebuilt import tools_condition, ToolNode\n",
    "from IPython.display import Image, display\n",
    "from langgraph.errors import NodeInterrupt\n",
    "from typing import Dict\n",
    "from langgraph.types import interrupt, Command\n",
    "from datetime import date\n",
    "\n",
    "\n",
    "\n",
    "\n",
    "\n",
    "load_dotenv(find_dotenv())\n",
    "os.environ[\"LANGCHAIN_PROJECT\"] = \"ex_module-3\"\n",
    "os.environ[\"LANGCHAIN_TRACING_V2\"] = \"true\"\n",
    "model = ChatGoogleGenerativeAI(model=\"gemini-2.0-flash-lite\",temperature=0)"
   ]
  },
  {
   "cell_type": "markdown",
   "metadata": {},
   "source": [
    "# Introduction to LangGraph - Module 3 exercises"
   ]
  },
  {
   "cell_type": "markdown",
   "metadata": {},
   "source": [
    "## Goals:\n",
    "Again, we're going to practise what we've been learning during Module 3.\n",
    "- We'll start by making a baseline graph with components from previous modules. It will be used throughout this block **(?)** of exercises.\n",
    "- We'll divide the tools into two sections: those that the model can use directly, and those that need a human supervision.\n",
    "- We'll also correct some of the information as a final user.\n",
    "- And, finally, we'll practise a little of time-travelling, by consulting the history of the states **(?)** and forking it into a new process.\n"
   ]
  },
  {
   "cell_type": "markdown",
   "metadata": {},
   "source": [
    "### 1.- Make a graph that can summarize the conversation when there are 3 messages or more, in the same fashion as in module 2:"
   ]
  },
  {
   "cell_type": "markdown",
   "metadata": {},
   "source": [
    "Use the same initial list of messages as a starting point and add/modify as needed for the tests."
   ]
  },
  {
   "cell_type": "code",
   "execution_count": 30,
   "metadata": {},
   "outputs": [],
   "source": [
    "messages = [\n",
    "    {\"role\": \"user\", \"content\": \"Hello\", \"notes\": None},\n",
    "    {\"role\": \"ai\", \"content\": \"Good morning, how are you?\", \"notes\": None},\n",
    "    {\"role\": \"user\", \"content\": \"Ok\", \"notes\": \"The user says they're ok\"},\n",
    "    {\"role\": \"ai\", \"content\": \"Perfect, thank you!\", \"notes\": None},\n",
    "    {\"role\": \"user\", \"content\": \"Can you help me with a problem?\", \"notes\": \"User requests assistance\"},\n",
    "    {\"role\": \"ai\", \"content\": \"Of course! What can I help you with?\", \"notes\": None},\n",
    "    {\"role\": \"user\", \"content\": \"I'm having trouble with my code\", \"notes\": \"User mentions coding issues\"},\n",
    "    {\"role\": \"ai\", \"content\": \"I'll be happy to help. Can you describe the problem?\", \"notes\": None},\n",
    "    {\"role\": \"user\", \"content\": \"It's about Python loops\", \"notes\": \"User specifies Python loops as the topic\"}\n",
    "]"
   ]
  },
  {
   "cell_type": "code",
   "execution_count": 31,
   "metadata": {},
   "outputs": [],
   "source": [
    "def decide_trimmer(state: MessagesState):\n",
    "    if len(state['messages']) > 3:\n",
    "        return \"summarizator\"\n",
    "    else:\n",
    "        return \"answerer\"\n",
    "    \n",
    "def summarizer(state: MessagesState):\n",
    "    delete_messages = [RemoveMessage(id=m.id) for m in state[\"messages\"][0:]]\n",
    "    response = model.invoke(f\"Make a summary of the following conversation: {state[\"messages\"]}\")\n",
    "    return {'messages': delete_messages + [response.content]}\n",
    "\n",
    "def answerer(state: MessagesState):\n",
    "    response = model.invoke(state['messages'])\n",
    "    return {'messages': response.content}"
   ]
  },
  {
   "cell_type": "code",
   "execution_count": 32,
   "metadata": {},
   "outputs": [],
   "source": [
    "builder = StateGraph(MessagesState)\n",
    "builder.add_node(\"summarizator\", summarizer)\n",
    "builder.add_node(\"answerer\", answerer)\n",
    "builder.add_conditional_edges(START, decide_trimmer, {\"summarizer\":\"summarizator\",\"answerer\":\"answerer\" })\n",
    "builder.add_edge(\"summarizator\",\"answerer\")\n",
    "builder.add_edge(\"answerer\",END)\n",
    "graph = builder.compile()\n",
    "# display(Image(graph.get_graph().draw_mermaid_png()))"
   ]
  },
  {
   "cell_type": "markdown",
   "metadata": {},
   "source": [
    "#### 1.1.- Include also one of the API tools created in module 1. Ensure everything works"
   ]
  },
  {
   "cell_type": "code",
   "execution_count": 33,
   "metadata": {},
   "outputs": [
    {
     "name": "stderr",
     "output_type": "stream",
     "text": [
      "Key 'title' is not supported in schema, ignoring\n"
     ]
    },
    {
     "data": {
      "image/png": "[encoded data removed]",
      "text/plain": [
       "<IPython.core.display.Image object>"
      ]
     },
     "metadata": {},
     "output_type": "display_data"
    }
   ],
   "source": [
    "### I've decided to use Tavily, it is simpler. Also I made some tuning of the model, so it retrieves more relevant info.\n",
    "\n",
    "def get_news(city: str) -> Dict:\n",
    "    '''\n",
    "    Tool to get the latest news about a given city.\n",
    "    \n",
    "    Args:\n",
    "        city (str): Name of the city\n",
    "        \n",
    "    Returns:\n",
    "        Dict: Latest news about the city\n",
    "    '''\n",
    "    today = date.today().strftime(\"%Y-%m-%d\")\n",
    "    search = TavilySearchResults(max_results=4,include_answer=True)\n",
    "    return search.invoke({\"query\":f\"Make a summary of the news of {today} about the city of {city}. Include the urls of the sources\",\"time_range\":\"day\",\"include_answer\":\"basic\"})\n",
    "\n",
    "tools = [get_news]\n",
    "model_with_tools = model.bind_tools(tools)\n",
    "\n",
    "def answerer_tools(state: MessagesState): ### As we've made a new version of the model, we need to use that one\n",
    "    response = model_with_tools.invoke(state['messages'])\n",
    "    return {'messages': response}\n",
    "\n",
    "builder = StateGraph(MessagesState)\n",
    "builder.add_node(\"summarizer\", summarizer)\n",
    "builder.add_node(\"answerer\", answerer_tools)\n",
    "builder.add_node(\"tools\", ToolNode(tools))\n",
    "builder.add_conditional_edges(START, decide_trimmer, {\"summarizator\":\"summarizer\",\"answerer\":\"answerer\" })\n",
    "builder.add_conditional_edges(\"answerer\",tools_condition)\n",
    "builder.add_edge(\"summarizer\",\"answerer\")\n",
    "builder.add_edge(\"tools\",\"answerer\")\n",
    "graph = builder.compile()\n",
    "display(Image(graph.get_graph().draw_mermaid_png()))\n",
    "\n"
   ]
  },
  {
   "cell_type": "markdown",
   "metadata": {},
   "source": [
    "##### Test 1: Summarizing the original convo"
   ]
  },
  {
   "cell_type": "code",
   "execution_count": 34,
   "metadata": {},
   "outputs": [
    {
     "data": {
      "text/plain": [
       "{'messages': [HumanMessage(content='The conversation begins with greetings. The AI asks how the user is, and the user responds that they are \"ok.\" The AI then offers assistance. The user asks for help with a problem, specifically with their code. The AI offers to help and asks for a description of the problem. The user clarifies that the problem is related to Python loops.', additional_kwargs={}, response_metadata={}, id='17ab5512-4650-49df-a650-7eb63b84b9e7'),\n",
       "  AIMessage(content='I am here to help. Can you describe the problem you are encountering with your Python loops?', additional_kwargs={}, response_metadata={'prompt_feedback': {'block_reason': 0, 'safety_ratings': []}, 'finish_reason': 'STOP', 'safety_ratings': []}, id='run-3ccae5b2-7469-4d0a-8329-1b93eb367e1e-0', usage_metadata={'input_tokens': 147, 'output_tokens': 20, 'total_tokens': 167, 'input_token_details': {'cache_read': 0}})]}"
      ]
     },
     "execution_count": 34,
     "metadata": {},
     "output_type": "execute_result"
    }
   ],
   "source": [
    "graph.invoke({\"messages\":messages})"
   ]
  },
  {
   "cell_type": "markdown",
   "metadata": {},
   "source": [
    "##### Test 2: Using the news tool"
   ]
  },
  {
   "cell_type": "code",
   "execution_count": 35,
   "metadata": {},
   "outputs": [],
   "source": [
    "messages = [\n",
    "    {\"role\": \"user\", \"content\": \"Hello\", \"notes\": None},\n",
    "    {\"role\": \"ai\", \"content\": \"Good morning, how are you?\", \"notes\": None},\n",
    "    {\"role\": \"user\", \"content\": \"Ok\", \"notes\": \"The user says they're ok\"},\n",
    "    {\"role\": \"ai\", \"content\": \"Perfect, thank you!\", \"notes\": None},\n",
    "    {\"role\": \"user\", \"content\": \"Can you help me with a problem?\", \"notes\": \"User requests assistance\"},\n",
    "    {\"role\": \"ai\", \"content\": \"Of course! What can I help you with?\", \"notes\": None},\n",
    "    {\"role\": \"user\", \"content\": \"What are the latest news about Madrid?\", \"notes\": \"User mentions coding issues\"}\n",
    "]"
   ]
  },
  {
   "cell_type": "code",
   "execution_count": 36,
   "metadata": {},
   "outputs": [
    {
     "data": {
      "text/plain": [
       "{'messages': [HumanMessage(content='The conversation starts with greetings. The AI asks how the user is, and the user responds that they are \"ok\". The AI then expresses its satisfaction. The user then asks for help with a problem. The AI offers assistance, and the user asks for the latest news about Madrid.', additional_kwargs={}, response_metadata={}, id='2dde3803-5889-4329-9ccf-07756ba62b44'),\n",
       "  AIMessage(content='', additional_kwargs={'function_call': {'name': 'get_news', 'arguments': '{\"city\": \"Madrid\"}'}}, response_metadata={'prompt_feedback': {'block_reason': 0, 'safety_ratings': []}, 'finish_reason': 'STOP', 'safety_ratings': []}, id='run-9f2df901-035e-4116-a498-8ba9a9010074-0', tool_calls=[{'name': 'get_news', 'args': {'city': 'Madrid'}, 'id': '776307c7-9dc4-4289-a954-2207c86cca14', 'type': 'tool_call'}], usage_metadata={'input_tokens': 134, 'output_tokens': 5, 'total_tokens': 139, 'input_token_details': {'cache_read': 0}}),\n",
       "  ToolMessage(content='[{\"title\": \"[PDF] CITY OF MADRID PRESS DOSSIER\", \"url\": \"https://www.madrid-destino.com/sites/default/files/2025-01/DossierPrensa_ingles_2025.pdf\", \"content\": \"It contains special content on re- sources available in the city, including a range of maps (Paseo del Arte [Art Walk], and other accessible museums and\", \"score\": 0.5354634}, {\"title\": \"Madrid, Spain | ITC - IATA\", \"url\": \"https://www.iata.org/en/training/courses/classroom-training-centers/itc/madrid-training-center/\", \"content\": \"Madrid is a modern metropolitan city and an economical and industrial center of Spain. It is known for its renaissance and contemporary art museums,\", \"score\": 0.29299515}, {\"title\": \"Madrid - Wikipedia\", \"url\": \"https://en.wikipedia.org/wiki/Madrid\", \"content\": \"Benefiting from increasing prosperity in the 1980s and 1990s, the capital city of Spain consolidated its position as an important economic, cultural, industrial, educational, and technological centre on the European continent.[70] During the mandate as Mayor of José María Álvarez del Manzano construction of traffic tunnels below the city proliferated.[78] The following administrations, also conservative, led by Alberto Ruiz-Gallardón and Ana Botella launched three unsuccessful bids for the 2012, 2016 and 2020 Summer Olympics.[79] By 2005, Madrid was the leading European destination for migrants from developing countries, as well as the largest employer of non-European workforce in Spain.[80] Madrid was a centre of the anti-austerity protests that erupted in Spain in 2011.[81] As consequence of the spillover of the 2008 financial and mortgage crisis, Madrid has been affected by the increasing number of second-hand homes held by banks and house evictions.[82] The mandate of left-wing Mayor Manuela Carmena (2015–2019) delivered the renaturalization of the course of the Manzanares across the city.\", \"score\": 0.14850381}, {\"title\": \"Guest post: China will need 10000GW of wind and solar by 2060\", \"url\": \"https://www.carbonbrief.org/guest-post-china-will-need-10000gw-of-wind-and-solar-by-2060/\", \"content\": \"China will need to install around 10000 gigawatts of wind and solar capacity to reach carbon neutrality by 2060, according to new research.\", \"score\": 0.010971057}]', name='get_news', id='fb28baa1-1db2-4145-9be5-fcdc9f8c9c0d', tool_call_id='776307c7-9dc4-4289-a954-2207c86cca14'),\n",
       "  AIMessage(content=\"Here's the latest news about Madrid:\\n\\n*   A press dossier from the City of Madrid contains special content on resources available in the city, including a range of maps and accessible museums.\\n*   Madrid is a modern metropolitan city and an economical and industrial center of Spain, known for its renaissance and contemporary art museums.\\n*   Madrid consolidated its position as an important economic, cultural, industrial, educational, and technological center. The city was also a center of anti-austerity protests in 2011.\", additional_kwargs={}, response_metadata={'prompt_feedback': {'block_reason': 0, 'safety_ratings': []}, 'finish_reason': 'STOP', 'safety_ratings': []}, id='run-fc483b47-794e-4a87-a726-7716bfe5f66b-0', usage_metadata={'input_tokens': 678, 'output_tokens': 109, 'total_tokens': 787, 'input_token_details': {'cache_read': 0}})]}"
      ]
     },
     "execution_count": 36,
     "metadata": {},
     "output_type": "execute_result"
    }
   ],
   "source": [
    "graph.invoke({\"messages\":messages})"
   ]
  },
  {
   "cell_type": "markdown",
   "metadata": {},
   "source": [
    "##### Test 3: News tool, no summarizer"
   ]
  },
  {
   "cell_type": "code",
   "execution_count": 37,
   "metadata": {},
   "outputs": [],
   "source": [
    "no_sum_messages = [\n",
    "    # {\"role\": \"user\", \"content\": \"Hello\", \"notes\": None},\n",
    "    # {\"role\": \"ai\", \"content\": \"Good morning, how are you?\", \"notes\": None},\n",
    "    # {\"role\": \"user\", \"content\": \"Ok\", \"notes\": \"The user says they're ok\"},\n",
    "    # {\"role\": \"ai\", \"content\": \"Perfect, thank you!\", \"notes\": None},\n",
    "    # {\"role\": \"user\", \"content\": \"Can you help me with a problem?\", \"notes\": \"User requests assistance\"},\n",
    "    # {\"role\": \"ai\", \"content\": \"Of course! What can I help you with?\", \"notes\": None},\n",
    "    {\"role\": \"user\", \"content\": \"What are the latest news about Madrid?\", \"notes\": \"User mentions coding issues\"}\n",
    "]"
   ]
  },
  {
   "cell_type": "code",
   "execution_count": 38,
   "metadata": {},
   "outputs": [
    {
     "data": {
      "text/plain": [
       "{'messages': [HumanMessage(content='What are the latest news about Madrid?', additional_kwargs={'notes': 'User mentions coding issues'}, response_metadata={}, id='04eeca0b-6797-4e92-8171-bb1b1c552e1c'),\n",
       "  AIMessage(content='', additional_kwargs={'function_call': {'name': 'get_news', 'arguments': '{\"city\": \"Madrid\"}'}}, response_metadata={'prompt_feedback': {'block_reason': 0, 'safety_ratings': []}, 'finish_reason': 'STOP', 'safety_ratings': []}, id='run-557e8ba1-5d1a-4e1a-a197-d9510119e110-0', tool_calls=[{'name': 'get_news', 'args': {'city': 'Madrid'}, 'id': '181fd57c-fa58-43cf-bc44-c3d2eb0e977d', 'type': 'tool_call'}], usage_metadata={'input_tokens': 85, 'output_tokens': 5, 'total_tokens': 90, 'input_token_details': {'cache_read': 0}}),\n",
       "  ToolMessage(content='[{\"title\": \"[PDF] CITY OF MADRID PRESS DOSSIER\", \"url\": \"https://www.madrid-destino.com/sites/default/files/2025-01/DossierPrensa_ingles_2025.pdf\", \"content\": \"It contains special content on re- sources available in the city, including a range of maps (Paseo del Arte [Art Walk], and other accessible museums and\", \"score\": 0.5354634}, {\"title\": \"Madrid, Spain | ITC - IATA\", \"url\": \"https://www.iata.org/en/training/courses/classroom-training-centers/itc/madrid-training-center/\", \"content\": \"Madrid is a modern metropolitan city and an economical and industrial center of Spain. It is known for its renaissance and contemporary art museums,\", \"score\": 0.29299515}, {\"title\": \"Madrid - Wikipedia\", \"url\": \"https://en.wikipedia.org/wiki/Madrid\", \"content\": \"Benefiting from increasing prosperity in the 1980s and 1990s, the capital city of Spain consolidated its position as an important economic, cultural, industrial, educational, and technological centre on the European continent.[70] During the mandate as Mayor of José María Álvarez del Manzano construction of traffic tunnels below the city proliferated.[78] The following administrations, also conservative, led by Alberto Ruiz-Gallardón and Ana Botella launched three unsuccessful bids for the 2012, 2016 and 2020 Summer Olympics.[79] By 2005, Madrid was the leading European destination for migrants from developing countries, as well as the largest employer of non-European workforce in Spain.[80] Madrid was a centre of the anti-austerity protests that erupted in Spain in 2011.[81] As consequence of the spillover of the 2008 financial and mortgage crisis, Madrid has been affected by the increasing number of second-hand homes held by banks and house evictions.[82] The mandate of left-wing Mayor Manuela Carmena (2015–2019) delivered the renaturalization of the course of the Manzanares across the city.\", \"score\": 0.14850381}, {\"title\": \"Guest post: China will need 10000GW of wind and solar by 2060\", \"url\": \"https://www.carbonbrief.org/guest-post-china-will-need-10000gw-of-wind-and-solar-by-2060/\", \"content\": \"China will need to install around 10000 gigawatts of wind and solar capacity to reach carbon neutrality by 2060, according to new research.\", \"score\": 0.010971057}]', name='get_news', id='cadbbbf4-46d9-440d-968f-9dca2ed41b1c', tool_call_id='181fd57c-fa58-43cf-bc44-c3d2eb0e977d'),\n",
       "  AIMessage(content=\"Here's the latest news about Madrid:\\n\\n*   A press dossier from the City of Madrid contains special content on resources available in the city, including a range of maps and accessible museums.\\n*   Madrid is a modern metropolitan city and an economical and industrial center of Spain, known for its renaissance and contemporary art museums.\\n*   Madrid consolidated its position as an important economic, cultural, industrial, educational, and technological center. The city was also a center of anti-austerity protests in 2011.\", additional_kwargs={}, response_metadata={'prompt_feedback': {'block_reason': 0, 'safety_ratings': []}, 'finish_reason': 'STOP', 'safety_ratings': []}, id='run-25bb3065-07b9-4a75-8aa7-940f4d020674-0', usage_metadata={'input_tokens': 629, 'output_tokens': 108, 'total_tokens': 737, 'input_token_details': {'cache_read': 0}})]}"
      ]
     },
     "execution_count": 38,
     "metadata": {},
     "output_type": "execute_result"
    }
   ],
   "source": [
    "graph.invoke({\"messages\":no_sum_messages})"
   ]
  },
  {
   "cell_type": "markdown",
   "metadata": {},
   "source": [
    "### 2.- Modify it so it streams the tokens of the messages. Does the core code of the graph change?"
   ]
  },
  {
   "cell_type": "code",
   "execution_count": 39,
   "metadata": {},
   "outputs": [
    {
     "name": "stdout",
     "output_type": "stream",
     "text": [
      "\n",
      "Here's the latest news about Madrid:\n",
      "\n",
      "*   A PDF document from Madrid-Destino contains special content on resources available in the city, including a range of maps and accessible museums.\n",
      "*   Madrid is a modern metropolitan city and an economical and industrial center of Spain, known for its renaissance and contemporary art museums.\n",
      "*   Madrid consolidated its position as an important economic, cultural, industrial, educational, and technological center. The city was also a center of anti-austerity protests in 2011.\n"
     ]
    }
   ],
   "source": [
    "### Example for streaming whole messages\n",
    "for chunk in graph.stream({\"messages\":messages},stream_mode=\"updates\"):\n",
    "    for c in chunk:\n",
    "        if c == \"answerer\":\n",
    "            print(chunk[c][\"messages\"].content)"
   ]
  },
  {
   "cell_type": "code",
   "execution_count": 40,
   "metadata": {},
   "outputs": [
    {
     "name": "stdout",
     "output_type": "stream",
     "text": [
      "==================================\u001b[1m Ai Message \u001b[0m==================================\n",
      "Tool Calls:\n",
      "  get_news (f2b2bcff-c45a-4de7-a8de-1daeebd75a76)\n",
      " Call ID: f2b2bcff-c45a-4de7-a8de-1daeebd75a76\n",
      "  Args:\n",
      "    city: Madrid\n",
      "==================================\u001b[1m Ai Message \u001b[0m==================================\n",
      "\n",
      "Here's the latest news about Madrid:\n",
      "\n",
      "*   A PDF document from the City of Madrid Press contains special content on resources available in the city, including a range of maps and accessible museums.\n",
      "*   Madrid is a modern metropolitan city and an economical and industrial center of Spain, known for its renaissance and contemporary art museums.\n",
      "*   Madrid consolidated its position as an important economic, cultural, industrial, educational, and technological center. The city was also a center of anti-austerity protests in 2011.\n",
      "*   There is also news about China's plans for wind and solar energy.\n"
     ]
    }
   ],
   "source": [
    "### Using pretty_print on the chunks\n",
    "for chunk in graph.stream({\"messages\":messages},stream_mode=\"updates\"):\n",
    "    for c in chunk:\n",
    "        if c == \"answerer\":\n",
    "            chunk[c][\"messages\"].pretty_print()"
   ]
  },
  {
   "cell_type": "code",
   "execution_count": 41,
   "metadata": {},
   "outputs": [
    {
     "name": "stdout",
     "output_type": "stream",
     "text": [
      "The conversation starts with a greeting exchange. The human says \"Hello,\" the AI responds with \"Good morning, how are you?\" The human replies \"Ok,\" and the AI responds with \"Perfect, thank you!\" The human then asks for help with a problem, and the AI offers assistance. Finally, the human asks for the latest news about Madrid.\n",
      "\n",
      "====================\n",
      "\n",
      "\n",
      "====================\n",
      "Here's the latest news about Madrid:\n",
      "\n",
      "*   A press dossier from the City of Madrid contains resources available in the city, including maps and information on accessible museums.\n",
      "*   Madrid is a modern metropolitan city and an economic and industrial center of Spain, known for its renaissance and contemporary art museums.\n",
      "*   Madrid has consolidated its position as an important economic, cultural, industrial, educational, and technological center. The city was also a center of anti-austerity protests in 2011.\n",
      "\n",
      "====================\n"
     ]
    }
   ],
   "source": [
    "### Example for chunk streaming inside each message\n",
    "async for event in graph.astream_events({\"messages\": messages}, version=\"v2\"):\n",
    "    if event[\"event\"] == 'on_chat_model_end':\n",
    "        print(\"\\n\")\n",
    "        print(\"=\"*20)\n",
    "    if event[\"event\"] == 'on_chat_model_stream':\n",
    "        print(event['data'][\"chunk\"].content, end=\"\")"
   ]
  },
  {
   "cell_type": "markdown",
   "metadata": {},
   "source": [
    "### 3.- APIs may not be free, so a human confirmation may be required. Make two simple math functions, and add them to the list of tools. Also, modify the API call function so we get a `NodeInterrupt` if an user doesn't approve its usage. The approval from the user must come by an `interrupt` / `command` primitive"
   ]
  },
  {
   "cell_type": "markdown",
   "metadata": {},
   "source": [
    "Hint: `interrupt` / `command` primitive isn't explained at this point of the course, but there's documentation on LangGraph docs for both [interrupt](https://langchain-ai.github.io/langgraph/concepts/human_in_the_loop/#review-tool-calls) and [command](https://langchain-ai.github.io/langgraph/reference/types/#langgraph.types.Command). I really think it's worth the extra time to learn to put proper user validations"
   ]
  },
  {
   "cell_type": "code",
   "execution_count": 42,
   "metadata": {},
   "outputs": [
    {
     "name": "stderr",
     "output_type": "stream",
     "text": [
      "Key 'title' is not supported in schema, ignoring\n",
      "Key 'title' is not supported in schema, ignoring\n",
      "Key 'title' is not supported in schema, ignoring\n"
     ]
    }
   ],
   "source": [
    "def multiply(a: int, b: int) -> int:\n",
    "    \"\"\"Multiply a and b.\n",
    "\n",
    "    Args:\n",
    "        a: first int\n",
    "        b: second int\n",
    "    \"\"\"\n",
    "    return a * b\n",
    "\n",
    "\n",
    "def add(a: int, b: int) -> int:\n",
    "    \"\"\"Adds a and b.\n",
    "\n",
    "    Args:\n",
    "        a: first int\n",
    "        b: second int\n",
    "    \"\"\"\n",
    "    return a + b\n",
    "\n",
    "def get_news(city: str) -> Dict:\n",
    "    '''\n",
    "    Tool to get the latest news about a given city.\n",
    "    \n",
    "    Args:\n",
    "        city (str): Name of the city\n",
    "        \n",
    "    Returns:\n",
    "        Dict: Latest news about the city\n",
    "    '''\n",
    "    proceed = interrupt({\"text_to_revise\":\"User wants to make an API call to get news from {city}. Proceed [Y/N]?\"})\n",
    "    if proceed == \"Y\":\n",
    "        today = date.today().strftime(\"%Y-%m-%d\")\n",
    "        search = TavilySearchResults(max_results=4,include_answer=True)\n",
    "        return search.invoke({\"query\":f\"Make a summary of the news of {today} about the city of {city}. Include the urls of the sources\",\"time_range\":\"day\",\"include_answer\":\"basic\"})\n",
    "    else:\n",
    "        raise NodeInterrupt(f\"Approval for this tool is needed\")\n",
    "\n",
    "tools = [multiply,add,get_news]\n",
    "model_tools = model.bind_tools(tools)\n",
    "\n",
    "\n",
    "def answerer_tools(state: MessagesState): ### As we've made a new version of the model, we need to use that one\n",
    "    response = model_tools.invoke(state['messages'])\n",
    "    return {'messages': response}"
   ]
  },
  {
   "cell_type": "markdown",
   "metadata": {},
   "source": [
    "#### 3.1.- Insert the new list of all tools to the model, and build the graph.\n",
    "\n",
    "Hint: `interrupt` and `get_state` need a checkpointer, remember to include it when compiling the graph!"
   ]
  },
  {
   "cell_type": "code",
   "execution_count": 43,
   "metadata": {},
   "outputs": [
    {
     "data": {
      "image/png": "[encoded data removed]",
      "text/plain": [
       "<IPython.core.display.Image object>"
      ]
     },
     "metadata": {},
     "output_type": "display_data"
    }
   ],
   "source": [
    "builder = StateGraph(MessagesState)\n",
    "builder.add_node(\"summarizer\", summarizer)\n",
    "builder.add_node(\"answerer\", answerer_tools)\n",
    "builder.add_node(\"tools\", ToolNode(tools))\n",
    "builder.add_conditional_edges(START, decide_trimmer, {\"summarizator\":\"summarizer\",\"answerer\":\"answerer\" })\n",
    "builder.add_conditional_edges(\"answerer\",tools_condition)\n",
    "builder.add_edge(\"summarizer\",\"answerer\")\n",
    "builder.add_edge(\"tools\",\"answerer\")\n",
    "\n",
    "memory = MemorySaver() ### Whenever we want to retrieve the state of a graph we need to implement a checkpointer, as seen in Module 2.\n",
    "graph = builder.compile(checkpointer=memory)\n",
    "display(Image(graph.get_graph().draw_mermaid_png()))"
   ]
  },
  {
   "cell_type": "markdown",
   "metadata": {},
   "source": [
    "#### 3.2.- Try the new graph! Make sure to include a thread_id, and work with `get_state` and `command` to resume the flow of the API call confirming its use"
   ]
  },
  {
   "cell_type": "code",
   "execution_count": 62,
   "metadata": {},
   "outputs": [
    {
     "data": {
      "text/plain": [
       "{'messages': [HumanMessage(content=\"What's the news on Barcelona?\", additional_kwargs={}, response_metadata={}, id='5ef5f48e-bd30-4f01-806b-8d85c83c787d')]}"
      ]
     },
     "execution_count": 62,
     "metadata": {},
     "output_type": "execute_result"
    }
   ],
   "source": [
    "thread = {\"configurable\": {\"thread_id\": \"15\"}}\n",
    "graph.invoke({\"messages\":[HumanMessage(content=\"What's the news on Barcelona?\")]},thread)"
   ]
  },
  {
   "cell_type": "code",
   "execution_count": 63,
   "metadata": {},
   "outputs": [
    {
     "data": {
      "text/plain": [
       "StateSnapshot(values={'messages': [HumanMessage(content=\"What's the news on Barcelona?\", additional_kwargs={}, response_metadata={}, id='5ef5f48e-bd30-4f01-806b-8d85c83c787d')]}, next=('human_feedback',), config={'configurable': {'thread_id': '15', 'checkpoint_ns': '', 'checkpoint_id': '1f00324c-be62-629f-8001-350360dd50cf'}}, metadata={'source': 'loop', 'writes': None, 'thread_id': '15', 'step': 1, 'parents': {}}, created_at='2025-03-17T11:41:42.304835+00:00', parent_config={'configurable': {'thread_id': '15', 'checkpoint_ns': '', 'checkpoint_id': '1f00324c-be55-6fe4-8000-f984bacbed12'}}, tasks=(PregelTask(id='b4e564d2-e2d7-4362-6cf5-8e3cbb592e2e', name='human_feedback', path=('__pregel_pull', 'human_feedback'), error=None, interrupts=(), state=None, result=None),))"
      ]
     },
     "execution_count": 63,
     "metadata": {},
     "output_type": "execute_result"
    }
   ],
   "source": [
    "graph.get_state(thread)"
   ]
  },
  {
   "cell_type": "code",
   "execution_count": 61,
   "metadata": {},
   "outputs": [
    {
     "ename": "InvalidUpdateError",
     "evalue": "Must write to at least one of ['messages']",
     "output_type": "error",
     "traceback": [
      "\u001b[31m---------------------------------------------------------------------------\u001b[39m",
      "\u001b[31mInvalidUpdateError\u001b[39m                        Traceback (most recent call last)",
      "\u001b[36mCell\u001b[39m\u001b[36m \u001b[39m\u001b[32mIn[61]\u001b[39m\u001b[32m, line 1\u001b[39m\n\u001b[32m----> \u001b[39m\u001b[32m1\u001b[39m \u001b[43mgraph\u001b[49m\u001b[43m.\u001b[49m\u001b[43minvoke\u001b[49m\u001b[43m(\u001b[49m\u001b[43mCommand\u001b[49m\u001b[43m(\u001b[49m\u001b[43mresume\u001b[49m\u001b[43m=\u001b[49m\u001b[33;43m\"\u001b[39;49m\u001b[33;43mY\u001b[39;49m\u001b[33;43m\"\u001b[39;49m\u001b[43m)\u001b[49m\u001b[43m,\u001b[49m\u001b[43m \u001b[49m\u001b[43mthread\u001b[49m\u001b[43m)\u001b[49m \u001b[38;5;66;03m### resume is the value that takes the interrupt on the original function.\u001b[39;00m\n",
      "\u001b[36mFile \u001b[39m\u001b[32mc:\\Users\\raulg\\Documents\\THEBRIDGE_DS\\0.-Repo_Git\\Material Data Science\\Langgraph-course\\langchain-academy\\lc-academy-env-2\\Lib\\site-packages\\langgraph\\pregel\\__init__.py:2367\u001b[39m, in \u001b[36mPregel.invoke\u001b[39m\u001b[34m(self, input, config, stream_mode, output_keys, interrupt_before, interrupt_after, debug, **kwargs)\u001b[39m\n\u001b[32m   2365\u001b[39m \u001b[38;5;28;01melse\u001b[39;00m:\n\u001b[32m   2366\u001b[39m     chunks = []\n\u001b[32m-> \u001b[39m\u001b[32m2367\u001b[39m \u001b[43m\u001b[49m\u001b[38;5;28;43;01mfor\u001b[39;49;00m\u001b[43m \u001b[49m\u001b[43mchunk\u001b[49m\u001b[43m \u001b[49m\u001b[38;5;129;43;01min\u001b[39;49;00m\u001b[43m \u001b[49m\u001b[38;5;28;43mself\u001b[39;49m\u001b[43m.\u001b[49m\u001b[43mstream\u001b[49m\u001b[43m(\u001b[49m\n\u001b[32m   2368\u001b[39m \u001b[43m    \u001b[49m\u001b[38;5;28;43minput\u001b[39;49m\u001b[43m,\u001b[49m\n\u001b[32m   2369\u001b[39m \u001b[43m    \u001b[49m\u001b[43mconfig\u001b[49m\u001b[43m,\u001b[49m\n\u001b[32m   2370\u001b[39m \u001b[43m    \u001b[49m\u001b[43mstream_mode\u001b[49m\u001b[43m=\u001b[49m\u001b[43mstream_mode\u001b[49m\u001b[43m,\u001b[49m\n\u001b[32m   2371\u001b[39m \u001b[43m    \u001b[49m\u001b[43moutput_keys\u001b[49m\u001b[43m=\u001b[49m\u001b[43moutput_keys\u001b[49m\u001b[43m,\u001b[49m\n\u001b[32m   2372\u001b[39m \u001b[43m    \u001b[49m\u001b[43minterrupt_before\u001b[49m\u001b[43m=\u001b[49m\u001b[43minterrupt_before\u001b[49m\u001b[43m,\u001b[49m\n\u001b[32m   2373\u001b[39m \u001b[43m    \u001b[49m\u001b[43minterrupt_after\u001b[49m\u001b[43m=\u001b[49m\u001b[43minterrupt_after\u001b[49m\u001b[43m,\u001b[49m\n\u001b[32m   2374\u001b[39m \u001b[43m    \u001b[49m\u001b[43mdebug\u001b[49m\u001b[43m=\u001b[49m\u001b[43mdebug\u001b[49m\u001b[43m,\u001b[49m\n\u001b[32m   2375\u001b[39m \u001b[43m    \u001b[49m\u001b[43m*\u001b[49m\u001b[43m*\u001b[49m\u001b[43mkwargs\u001b[49m\u001b[43m,\u001b[49m\n\u001b[32m   2376\u001b[39m \u001b[43m\u001b[49m\u001b[43m)\u001b[49m\u001b[43m:\u001b[49m\n\u001b[32m   2377\u001b[39m \u001b[43m    \u001b[49m\u001b[38;5;28;43;01mif\u001b[39;49;00m\u001b[43m \u001b[49m\u001b[43mstream_mode\u001b[49m\u001b[43m \u001b[49m\u001b[43m==\u001b[49m\u001b[43m \u001b[49m\u001b[33;43m\"\u001b[39;49m\u001b[33;43mvalues\u001b[39;49m\u001b[33;43m\"\u001b[39;49m\u001b[43m:\u001b[49m\n\u001b[32m   2378\u001b[39m \u001b[43m        \u001b[49m\u001b[43mlatest\u001b[49m\u001b[43m \u001b[49m\u001b[43m=\u001b[49m\u001b[43m \u001b[49m\u001b[43mchunk\u001b[49m\n",
      "\u001b[36mFile \u001b[39m\u001b[32mc:\\Users\\raulg\\Documents\\THEBRIDGE_DS\\0.-Repo_Git\\Material Data Science\\Langgraph-course\\langchain-academy\\lc-academy-env-2\\Lib\\site-packages\\langgraph\\pregel\\__init__.py:2024\u001b[39m, in \u001b[36mPregel.stream\u001b[39m\u001b[34m(self, input, config, stream_mode, output_keys, interrupt_before, interrupt_after, debug, subgraphs)\u001b[39m\n\u001b[32m   2018\u001b[39m     \u001b[38;5;66;03m# Similarly to Bulk Synchronous Parallel / Pregel model\u001b[39;00m\n\u001b[32m   2019\u001b[39m     \u001b[38;5;66;03m# computation proceeds in steps, while there are channel updates.\u001b[39;00m\n\u001b[32m   2020\u001b[39m     \u001b[38;5;66;03m# Channel updates from step N are only visible in step N+1\u001b[39;00m\n\u001b[32m   2021\u001b[39m     \u001b[38;5;66;03m# channels are guaranteed to be immutable for the duration of the step,\u001b[39;00m\n\u001b[32m   2022\u001b[39m     \u001b[38;5;66;03m# with channel updates applied only at the transition between steps.\u001b[39;00m\n\u001b[32m   2023\u001b[39m     \u001b[38;5;28;01mwhile\u001b[39;00m loop.tick(input_keys=\u001b[38;5;28mself\u001b[39m.input_channels):\n\u001b[32m-> \u001b[39m\u001b[32m2024\u001b[39m \u001b[43m        \u001b[49m\u001b[38;5;28;43;01mfor\u001b[39;49;00m\u001b[43m \u001b[49m\u001b[43m_\u001b[49m\u001b[43m \u001b[49m\u001b[38;5;129;43;01min\u001b[39;49;00m\u001b[43m \u001b[49m\u001b[43mrunner\u001b[49m\u001b[43m.\u001b[49m\u001b[43mtick\u001b[49m\u001b[43m(\u001b[49m\n\u001b[32m   2025\u001b[39m \u001b[43m            \u001b[49m\u001b[43mloop\u001b[49m\u001b[43m.\u001b[49m\u001b[43mtasks\u001b[49m\u001b[43m.\u001b[49m\u001b[43mvalues\u001b[49m\u001b[43m(\u001b[49m\u001b[43m)\u001b[49m\u001b[43m,\u001b[49m\n\u001b[32m   2026\u001b[39m \u001b[43m            \u001b[49m\u001b[43mtimeout\u001b[49m\u001b[43m=\u001b[49m\u001b[38;5;28;43mself\u001b[39;49m\u001b[43m.\u001b[49m\u001b[43mstep_timeout\u001b[49m\u001b[43m,\u001b[49m\n\u001b[32m   2027\u001b[39m \u001b[43m            \u001b[49m\u001b[43mretry_policy\u001b[49m\u001b[43m=\u001b[49m\u001b[38;5;28;43mself\u001b[39;49m\u001b[43m.\u001b[49m\u001b[43mretry_policy\u001b[49m\u001b[43m,\u001b[49m\n\u001b[32m   2028\u001b[39m \u001b[43m            \u001b[49m\u001b[43mget_waiter\u001b[49m\u001b[43m=\u001b[49m\u001b[43mget_waiter\u001b[49m\u001b[43m,\u001b[49m\n\u001b[32m   2029\u001b[39m \u001b[43m        \u001b[49m\u001b[43m)\u001b[49m\u001b[43m:\u001b[49m\n\u001b[32m   2030\u001b[39m \u001b[43m            \u001b[49m\u001b[38;5;66;43;03m# emit output\u001b[39;49;00m\n\u001b[32m   2031\u001b[39m \u001b[43m            \u001b[49m\u001b[38;5;28;43;01myield from\u001b[39;49;00m\u001b[43m \u001b[49m\u001b[43moutput\u001b[49m\u001b[43m(\u001b[49m\u001b[43m)\u001b[49m\n\u001b[32m   2032\u001b[39m \u001b[38;5;66;03m# emit output\u001b[39;00m\n",
      "\u001b[36mFile \u001b[39m\u001b[32mc:\\Users\\raulg\\Documents\\THEBRIDGE_DS\\0.-Repo_Git\\Material Data Science\\Langgraph-course\\langchain-academy\\lc-academy-env-2\\Lib\\site-packages\\langgraph\\pregel\\runner.py:230\u001b[39m, in \u001b[36mPregelRunner.tick\u001b[39m\u001b[34m(self, tasks, reraise, timeout, retry_policy, get_waiter)\u001b[39m\n\u001b[32m    228\u001b[39m t = tasks[\u001b[32m0\u001b[39m]\n\u001b[32m    229\u001b[39m \u001b[38;5;28;01mtry\u001b[39;00m:\n\u001b[32m--> \u001b[39m\u001b[32m230\u001b[39m     \u001b[43mrun_with_retry\u001b[49m\u001b[43m(\u001b[49m\n\u001b[32m    231\u001b[39m \u001b[43m        \u001b[49m\u001b[43mt\u001b[49m\u001b[43m,\u001b[49m\n\u001b[32m    232\u001b[39m \u001b[43m        \u001b[49m\u001b[43mretry_policy\u001b[49m\u001b[43m,\u001b[49m\n\u001b[32m    233\u001b[39m \u001b[43m        \u001b[49m\u001b[43mconfigurable\u001b[49m\u001b[43m=\u001b[49m\u001b[43m{\u001b[49m\n\u001b[32m    234\u001b[39m \u001b[43m            \u001b[49m\u001b[43mCONFIG_KEY_SEND\u001b[49m\u001b[43m:\u001b[49m\u001b[43m \u001b[49m\u001b[43mpartial\u001b[49m\u001b[43m(\u001b[49m\u001b[43mwriter\u001b[49m\u001b[43m,\u001b[49m\u001b[43m \u001b[49m\u001b[43mt\u001b[49m\u001b[43m)\u001b[49m\u001b[43m,\u001b[49m\n\u001b[32m    235\u001b[39m \u001b[43m            \u001b[49m\u001b[43mCONFIG_KEY_CALL\u001b[49m\u001b[43m:\u001b[49m\u001b[43m \u001b[49m\u001b[43mpartial\u001b[49m\u001b[43m(\u001b[49m\u001b[43mcall\u001b[49m\u001b[43m,\u001b[49m\u001b[43m \u001b[49m\u001b[43mt\u001b[49m\u001b[43m)\u001b[49m\u001b[43m,\u001b[49m\n\u001b[32m    236\u001b[39m \u001b[43m        \u001b[49m\u001b[43m}\u001b[49m\u001b[43m,\u001b[49m\n\u001b[32m    237\u001b[39m \u001b[43m    \u001b[49m\u001b[43m)\u001b[49m\n\u001b[32m    238\u001b[39m     \u001b[38;5;28mself\u001b[39m.commit(t, \u001b[38;5;28;01mNone\u001b[39;00m)\n\u001b[32m    239\u001b[39m \u001b[38;5;28;01mexcept\u001b[39;00m \u001b[38;5;167;01mException\u001b[39;00m \u001b[38;5;28;01mas\u001b[39;00m exc:\n",
      "\u001b[36mFile \u001b[39m\u001b[32mc:\\Users\\raulg\\Documents\\THEBRIDGE_DS\\0.-Repo_Git\\Material Data Science\\Langgraph-course\\langchain-academy\\lc-academy-env-2\\Lib\\site-packages\\langgraph\\pregel\\retry.py:40\u001b[39m, in \u001b[36mrun_with_retry\u001b[39m\u001b[34m(task, retry_policy, configurable)\u001b[39m\n\u001b[32m     38\u001b[39m     task.writes.clear()\n\u001b[32m     39\u001b[39m     \u001b[38;5;66;03m# run the task\u001b[39;00m\n\u001b[32m---> \u001b[39m\u001b[32m40\u001b[39m     \u001b[38;5;28;01mreturn\u001b[39;00m \u001b[43mtask\u001b[49m\u001b[43m.\u001b[49m\u001b[43mproc\u001b[49m\u001b[43m.\u001b[49m\u001b[43minvoke\u001b[49m\u001b[43m(\u001b[49m\u001b[43mtask\u001b[49m\u001b[43m.\u001b[49m\u001b[43minput\u001b[49m\u001b[43m,\u001b[49m\u001b[43m \u001b[49m\u001b[43mconfig\u001b[49m\u001b[43m)\u001b[49m\n\u001b[32m     41\u001b[39m \u001b[38;5;28;01mexcept\u001b[39;00m ParentCommand \u001b[38;5;28;01mas\u001b[39;00m exc:\n\u001b[32m     42\u001b[39m     ns: \u001b[38;5;28mstr\u001b[39m = config[CONF][CONFIG_KEY_CHECKPOINT_NS]\n",
      "\u001b[36mFile \u001b[39m\u001b[32mc:\\Users\\raulg\\Documents\\THEBRIDGE_DS\\0.-Repo_Git\\Material Data Science\\Langgraph-course\\langchain-academy\\lc-academy-env-2\\Lib\\site-packages\\langgraph\\utils\\runnable.py:546\u001b[39m, in \u001b[36mRunnableSeq.invoke\u001b[39m\u001b[34m(self, input, config, **kwargs)\u001b[39m\n\u001b[32m    542\u001b[39m config = patch_config(\n\u001b[32m    543\u001b[39m     config, callbacks=run_manager.get_child(\u001b[33mf\u001b[39m\u001b[33m\"\u001b[39m\u001b[33mseq:step:\u001b[39m\u001b[38;5;132;01m{\u001b[39;00mi\u001b[38;5;250m \u001b[39m+\u001b[38;5;250m \u001b[39m\u001b[32m1\u001b[39m\u001b[38;5;132;01m}\u001b[39;00m\u001b[33m\"\u001b[39m)\n\u001b[32m    544\u001b[39m )\n\u001b[32m    545\u001b[39m \u001b[38;5;28;01mif\u001b[39;00m i == \u001b[32m0\u001b[39m:\n\u001b[32m--> \u001b[39m\u001b[32m546\u001b[39m     \u001b[38;5;28minput\u001b[39m = \u001b[43mstep\u001b[49m\u001b[43m.\u001b[49m\u001b[43minvoke\u001b[49m\u001b[43m(\u001b[49m\u001b[38;5;28;43minput\u001b[39;49m\u001b[43m,\u001b[49m\u001b[43m \u001b[49m\u001b[43mconfig\u001b[49m\u001b[43m,\u001b[49m\u001b[43m \u001b[49m\u001b[43m*\u001b[49m\u001b[43m*\u001b[49m\u001b[43mkwargs\u001b[49m\u001b[43m)\u001b[49m\n\u001b[32m    547\u001b[39m \u001b[38;5;28;01melse\u001b[39;00m:\n\u001b[32m    548\u001b[39m     \u001b[38;5;28minput\u001b[39m = step.invoke(\u001b[38;5;28minput\u001b[39m, config)\n",
      "\u001b[36mFile \u001b[39m\u001b[32mc:\\Users\\raulg\\Documents\\THEBRIDGE_DS\\0.-Repo_Git\\Material Data Science\\Langgraph-course\\langchain-academy\\lc-academy-env-2\\Lib\\site-packages\\langgraph\\utils\\runnable.py:302\u001b[39m, in \u001b[36mRunnableCallable.invoke\u001b[39m\u001b[34m(self, input, config, **kwargs)\u001b[39m\n\u001b[32m    300\u001b[39m     context = copy_context()\n\u001b[32m    301\u001b[39m     context.run(_set_config_context, child_config)\n\u001b[32m--> \u001b[39m\u001b[32m302\u001b[39m     ret = \u001b[43mcontext\u001b[49m\u001b[43m.\u001b[49m\u001b[43mrun\u001b[49m\u001b[43m(\u001b[49m\u001b[38;5;28;43mself\u001b[39;49m\u001b[43m.\u001b[49m\u001b[43mfunc\u001b[49m\u001b[43m,\u001b[49m\u001b[43m \u001b[49m\u001b[43m*\u001b[49m\u001b[43margs\u001b[49m\u001b[43m,\u001b[49m\u001b[43m \u001b[49m\u001b[43m*\u001b[49m\u001b[43m*\u001b[49m\u001b[43mkwargs\u001b[49m\u001b[43m)\u001b[49m\n\u001b[32m    303\u001b[39m \u001b[38;5;28;01mexcept\u001b[39;00m \u001b[38;5;167;01mBaseException\u001b[39;00m \u001b[38;5;28;01mas\u001b[39;00m e:\n\u001b[32m    304\u001b[39m     run_manager.on_chain_error(e)\n",
      "\u001b[36mFile \u001b[39m\u001b[32mc:\\Users\\raulg\\Documents\\THEBRIDGE_DS\\0.-Repo_Git\\Material Data Science\\Langgraph-course\\langchain-academy\\lc-academy-env-2\\Lib\\site-packages\\langgraph\\pregel\\write.py:96\u001b[39m, in \u001b[36mChannelWrite._write\u001b[39m\u001b[34m(self, input, config)\u001b[39m\n\u001b[32m     87\u001b[39m \u001b[38;5;28;01mdef\u001b[39;00m\u001b[38;5;250m \u001b[39m\u001b[34m_write\u001b[39m(\u001b[38;5;28mself\u001b[39m, \u001b[38;5;28minput\u001b[39m: Any, config: RunnableConfig) -> \u001b[38;5;28;01mNone\u001b[39;00m:\n\u001b[32m     88\u001b[39m     writes = [\n\u001b[32m     89\u001b[39m         ChannelWriteEntry(write.channel, \u001b[38;5;28minput\u001b[39m, write.skip_none, write.mapper)\n\u001b[32m     90\u001b[39m         \u001b[38;5;28;01mif\u001b[39;00m \u001b[38;5;28misinstance\u001b[39m(write, ChannelWriteEntry) \u001b[38;5;129;01mand\u001b[39;00m write.value \u001b[38;5;129;01mis\u001b[39;00m PASSTHROUGH\n\u001b[32m   (...)\u001b[39m\u001b[32m     94\u001b[39m         \u001b[38;5;28;01mfor\u001b[39;00m write \u001b[38;5;129;01min\u001b[39;00m \u001b[38;5;28mself\u001b[39m.writes\n\u001b[32m     95\u001b[39m     ]\n\u001b[32m---> \u001b[39m\u001b[32m96\u001b[39m     \u001b[38;5;28;43mself\u001b[39;49m\u001b[43m.\u001b[49m\u001b[43mdo_write\u001b[49m\u001b[43m(\u001b[49m\n\u001b[32m     97\u001b[39m \u001b[43m        \u001b[49m\u001b[43mconfig\u001b[49m\u001b[43m,\u001b[49m\n\u001b[32m     98\u001b[39m \u001b[43m        \u001b[49m\u001b[43mwrites\u001b[49m\u001b[43m,\u001b[49m\n\u001b[32m     99\u001b[39m \u001b[43m        \u001b[49m\u001b[38;5;28;43mself\u001b[39;49m\u001b[43m.\u001b[49m\u001b[43mrequire_at_least_one_of\u001b[49m\u001b[43m \u001b[49m\u001b[38;5;28;43;01mif\u001b[39;49;00m\u001b[43m \u001b[49m\u001b[38;5;28;43minput\u001b[39;49m\u001b[43m \u001b[49m\u001b[38;5;129;43;01mis\u001b[39;49;00m\u001b[43m \u001b[49m\u001b[38;5;129;43;01mnot\u001b[39;49;00m\u001b[43m \u001b[49m\u001b[38;5;28;43;01mNone\u001b[39;49;00m\u001b[43m \u001b[49m\u001b[38;5;28;43;01melse\u001b[39;49;00m\u001b[43m \u001b[49m\u001b[38;5;28;43;01mNone\u001b[39;49;00m\u001b[43m,\u001b[49m\n\u001b[32m    100\u001b[39m \u001b[43m    \u001b[49m\u001b[43m)\u001b[49m\n\u001b[32m    101\u001b[39m     \u001b[38;5;28;01mreturn\u001b[39;00m \u001b[38;5;28minput\u001b[39m\n",
      "\u001b[36mFile \u001b[39m\u001b[32mc:\\Users\\raulg\\Documents\\THEBRIDGE_DS\\0.-Repo_Git\\Material Data Science\\Langgraph-course\\langchain-academy\\lc-academy-env-2\\Lib\\site-packages\\langgraph\\pregel\\write.py:157\u001b[39m, in \u001b[36mChannelWrite.do_write\u001b[39m\u001b[34m(config, writes, require_at_least_one_of)\u001b[39m\n\u001b[32m    155\u001b[39m \u001b[38;5;28;01mif\u001b[39;00m require_at_least_one_of \u001b[38;5;129;01mis\u001b[39;00m \u001b[38;5;129;01mnot\u001b[39;00m \u001b[38;5;28;01mNone\u001b[39;00m:\n\u001b[32m    156\u001b[39m     \u001b[38;5;28;01mif\u001b[39;00m \u001b[38;5;129;01mnot\u001b[39;00m {chan \u001b[38;5;28;01mfor\u001b[39;00m chan, _ \u001b[38;5;129;01min\u001b[39;00m tuples} & \u001b[38;5;28mset\u001b[39m(require_at_least_one_of):\n\u001b[32m--> \u001b[39m\u001b[32m157\u001b[39m         \u001b[38;5;28;01mraise\u001b[39;00m InvalidUpdateError(\n\u001b[32m    158\u001b[39m             \u001b[33mf\u001b[39m\u001b[33m\"\u001b[39m\u001b[33mMust write to at least one of \u001b[39m\u001b[38;5;132;01m{\u001b[39;00mrequire_at_least_one_of\u001b[38;5;132;01m}\u001b[39;00m\u001b[33m\"\u001b[39m\n\u001b[32m    159\u001b[39m         )\n\u001b[32m    160\u001b[39m write: TYPE_SEND = config[CONF][CONFIG_KEY_SEND]\n\u001b[32m    161\u001b[39m write(tuples)\n",
      "\u001b[31mInvalidUpdateError\u001b[39m: Must write to at least one of ['messages']",
      "During task with name '__start__' and id 'd37983a6-3814-80a2-78ac-25fc4a9070fe'"
     ]
    }
   ],
   "source": [
    "graph.invoke(Command(resume=\"Y\"), thread) ### resume is the value that takes the interrupt on the original function."
   ]
  },
  {
   "cell_type": "markdown",
   "metadata": {},
   "source": [
    "### 4.- We'd also like to check that the users are spelling the names of the cities correctly, or using the proper tools. Modify the query of the user *before* the graph uses the tool.\n",
    "\n",
    "**IMPORTANT**: use a different thread_id from previous exercises.\n",
    "\n",
    "Use `stream` so you can follow in a clearer way what's happening to each node."
   ]
  },
  {
   "cell_type": "code",
   "execution_count": 47,
   "metadata": {},
   "outputs": [
    {
     "data": {
      "image/png": "[encoded data removed]",
      "text/plain": [
       "<IPython.core.display.Image object>"
      ]
     },
     "metadata": {},
     "output_type": "display_data"
    }
   ],
   "source": [
    "def human_feedback(state: MessagesState):\n",
    "    pass\n",
    "\n",
    "builder = StateGraph(MessagesState)\n",
    "builder.add_node(\"summarizer\", summarizer)\n",
    "builder.add_node(\"answerer\", answerer_tools)\n",
    "builder.add_node(\"human_feedback\",human_feedback)\n",
    "builder.add_node(\"tools\", ToolNode(tools))\n",
    "builder.add_conditional_edges(START, decide_trimmer, {\"summarizator\":\"summarizer\",\"answerer\":\"human_feedback\" })\n",
    "builder.add_conditional_edges(\"answerer\",tools_condition)\n",
    "builder.add_edge(\"human_feedback\",\"answerer\")\n",
    "builder.add_edge(\"summarizer\",\"human_feedback\")\n",
    "builder.add_edge(\"tools\",\"answerer\")\n",
    "\n",
    "memory = MemorySaver() ### Whenever we want to retrieve the state of a graph we need to implement a checkpointer, as seen in Module 2.\n",
    "graph = builder.compile(interrupt_before=[\"human_feedback\"],checkpointer=memory)\n",
    "display(Image(graph.get_graph().draw_mermaid_png()))"
   ]
  },
  {
   "cell_type": "code",
   "execution_count": 48,
   "metadata": {},
   "outputs": [
    {
     "name": "stdout",
     "output_type": "stream",
     "text": [
      "{'messages': [HumanMessage(content=\"What's the news on Barcelona?\", additional_kwargs={}, response_metadata={}, id='ba6fda79-6a57-4d18-84ac-8a5f193a8833')]}\n"
     ]
    }
   ],
   "source": [
    "thread_4 = {\"configurable\": {\"thread_id\": \"ex_4e\"}}\n",
    "for event in graph.stream({\"messages\":[HumanMessage(content=\"What's the news on Barcelona?\")]},thread_4,stream_mode=\"values\"):\n",
    "    print(event)"
   ]
  },
  {
   "cell_type": "code",
   "execution_count": 49,
   "metadata": {},
   "outputs": [
    {
     "name": "stdout",
     "output_type": "stream",
     "text": [
      "{'answerer': {'messages': AIMessage(content='', additional_kwargs={'function_call': {'name': 'multiply', 'arguments': '{\"a\": 3.0, \"b\": 3.0}'}}, response_metadata={'prompt_feedback': {'block_reason': 0, 'safety_ratings': []}, 'finish_reason': 'STOP', 'safety_ratings': []}, id='run-7c1b9f4d-305a-4a81-8fb5-c763ce72fdc7-0', tool_calls=[{'name': 'multiply', 'args': {'a': 3.0, 'b': 3.0}, 'id': '0f660efa-e97a-4bad-8180-a1c3fae309cb', 'type': 'tool_call'}], usage_metadata={'input_tokens': 176, 'output_tokens': 3, 'total_tokens': 179, 'input_token_details': {'cache_read': 0}})}}\n",
      "{'tools': {'messages': [ToolMessage(content='9', name='multiply', id='4fe3d9d8-2d15-4a51-b703-2dea6c265f2b', tool_call_id='0f660efa-e97a-4bad-8180-a1c3fae309cb')]}}\n",
      "{'answerer': {'messages': AIMessage(content='Nine.', additional_kwargs={}, response_metadata={'prompt_feedback': {'block_reason': 0, 'safety_ratings': []}, 'finish_reason': 'STOP', 'safety_ratings': []}, id='run-adfe12e2-a523-4e1c-803b-7d30293d3a66-0', usage_metadata={'input_tokens': 181, 'output_tokens': 3, 'total_tokens': 184, 'input_token_details': {'cache_read': 0}})}}\n"
     ]
    }
   ],
   "source": [
    "graph.update_state(thread_4, {\"messages\": HumanMessage(content=input(\"What should be the actual query?\"),\n",
    "                                                       id=[state for state in graph.get_state_history(thread_4)][-2].values['messages'][0].id)}, \n",
    "                                                       as_node=\"human_feedback\")\n",
    "for event in graph.stream(None,thread_4,stream_mode=\"updates\"):\n",
    "    print(event)"
   ]
  },
  {
   "cell_type": "markdown",
   "metadata": {},
   "source": [
    "**Explanation**: the key for this exercise is to access to the id of the original message and modify it with the new query in the `update_state`. That's why we use the list comprehension, where we travel to the id of the message we want to modify. Below you can find a more digestable code:"
   ]
  },
  {
   "cell_type": "code",
   "execution_count": 50,
   "metadata": {},
   "outputs": [
    {
     "data": {
      "text/plain": [
       "'ba6fda79-6a57-4d18-84ac-8a5f193a8833'"
      ]
     },
     "execution_count": 50,
     "metadata": {},
     "output_type": "execute_result"
    }
   ],
   "source": [
    "history = [state for state in graph.get_state_history(thread_4)]\n",
    "history[-2].values['messages'][0].id"
   ]
  },
  {
   "cell_type": "markdown",
   "metadata": {},
   "source": [
    "A simpler way can be made with the `get_state`:"
   ]
  },
  {
   "cell_type": "code",
   "execution_count": 51,
   "metadata": {},
   "outputs": [
    {
     "data": {
      "text/plain": [
       "'ba6fda79-6a57-4d18-84ac-8a5f193a8833'"
      ]
     },
     "execution_count": 51,
     "metadata": {},
     "output_type": "execute_result"
    }
   ],
   "source": [
    "graph.get_state(thread_4).values['messages'][0].id"
   ]
  },
  {
   "cell_type": "markdown",
   "metadata": {},
   "source": [
    "So the list comprehension isn't needed."
   ]
  },
  {
   "cell_type": "markdown",
   "metadata": {},
   "source": [
    "### 5.- Use the `get_state_history` to get all the snapshots of the original thread."
   ]
  },
  {
   "cell_type": "code",
   "execution_count": 73,
   "metadata": {},
   "outputs": [],
   "source": [
    "history = [state for state in graph.get_state_history(thread)]"
   ]
  },
  {
   "cell_type": "code",
   "execution_count": 84,
   "metadata": {},
   "outputs": [
    {
     "data": {
      "text/plain": [
       "[StateSnapshot(values={'messages': [HumanMessage(content=\"What's the news on Barcelona?\", additional_kwargs={}, response_metadata={}, id='5ef5f48e-bd30-4f01-806b-8d85c83c787d')]}, next=('human_feedback',), config={'configurable': {'thread_id': '15', 'checkpoint_ns': '', 'checkpoint_id': '1f00324c-be62-629f-8001-350360dd50cf'}}, metadata={'source': 'loop', 'writes': None, 'thread_id': '15', 'step': 1, 'parents': {}}, created_at='2025-03-17T11:41:42.304835+00:00', parent_config={'configurable': {'thread_id': '15', 'checkpoint_ns': '', 'checkpoint_id': '1f00324c-be55-6fe4-8000-f984bacbed12'}}, tasks=(PregelTask(id='b4e564d2-e2d7-4362-6cf5-8e3cbb592e2e', name='human_feedback', path=('__pregel_pull', 'human_feedback'), error=None, interrupts=(), state=None, result=None),)),\n",
       " StateSnapshot(values={'messages': []}, next=('__start__',), config={'configurable': {'thread_id': '15', 'checkpoint_ns': '', 'checkpoint_id': '1f00324c-be55-6fe4-8000-f984bacbed12'}}, metadata={'source': 'input', 'writes': {'__start__': {'messages': [HumanMessage(content=\"What's the news on Barcelona?\", additional_kwargs={}, response_metadata={})]}}, 'thread_id': '15', 'step': 0, 'parents': {}}, created_at='2025-03-17T11:41:42.299850+00:00', parent_config={'configurable': {'thread_id': '15', 'checkpoint_ns': '', 'checkpoint_id': '1f00324c-6c88-6495-bfff-890c5947d804'}}, tasks=(PregelTask(id='ea93559e-79f7-f987-5a72-f285e1804b72', name='__start__', path=('__pregel_pull', '__start__'), error=None, interrupts=(), state=None, result={'messages': [HumanMessage(content=\"What's the news on Barcelona?\", additional_kwargs={}, response_metadata={}, id='5ef5f48e-bd30-4f01-806b-8d85c83c787d')]}),)),\n",
       " StateSnapshot(values={'messages': []}, next=('__start__',), config={'configurable': {'thread_id': '15', 'checkpoint_ns': '', 'checkpoint_id': '1f00324c-6c88-6495-bfff-890c5947d804'}}, metadata={'source': 'input', 'writes': {'__start__': Command(resume='Y')}, 'thread_id': '15', 'step': -1, 'parents': {}}, created_at='2025-03-17T11:41:33.722126+00:00', parent_config=None, tasks=(PregelTask(id='d37983a6-3814-80a2-78ac-25fc4a9070fe', name='__start__', path=('__pregel_pull', '__start__'), error='InvalidUpdateError(\"Must write to at least one of [\\'messages\\']\")', interrupts=(), state=None, result=None),))]"
      ]
     },
     "execution_count": 84,
     "metadata": {},
     "output_type": "execute_result"
    }
   ],
   "source": [
    "history"
   ]
  },
  {
   "cell_type": "markdown",
   "metadata": {},
   "source": [
    "#### 5.1.- Replay the whole thread. How much time did you need? More or less than the original execution?"
   ]
  },
  {
   "cell_type": "code",
   "execution_count": null,
   "metadata": {},
   "outputs": [],
   "source": [
    "graph.invoke(None, history[0].config)"
   ]
  },
  {
   "cell_type": "markdown",
   "metadata": {},
   "source": [
    "#### 5.2.- Now execute the thread with a new `checkpoint_id` and a new `HumanMessage`. More or less than the run on 5.1?"
   ]
  },
  {
   "cell_type": "code",
   "execution_count": 85,
   "metadata": {},
   "outputs": [
    {
     "data": {
      "text/plain": [
       "{'configurable': {'thread_id': '15',\n",
       "  'checkpoint_ns': '',\n",
       "  'checkpoint_id': '1f00326e-ddc2-6c8d-8002-f2f3aeb5c11a'}}"
      ]
     },
     "execution_count": 85,
     "metadata": {},
     "output_type": "execute_result"
    }
   ],
   "source": [
    "graph.update_state(history[0].config, {\"messages\": [HumanMessage(content=\"Multiply 3 by 12\",id=history[0].values[\"messages\"][0].id)]})"
   ]
  }
 ],
 "metadata": {
  "kernelspec": {
   "display_name": "lc-academy-env-2",
   "language": "python",
   "name": "python3"
  },
  "language_info": {
   "codemirror_mode": {
    "name": "ipython",
    "version": 3
   },
   "file_extension": ".py",
   "mimetype": "text/x-python",
   "name": "python",
   "nbconvert_exporter": "python",
   "pygments_lexer": "ipython3",
   "version": "3.12.5"
  }
 },
 "nbformat": 4,
 "nbformat_minor": 2
}
