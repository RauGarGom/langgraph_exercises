{
 "cells": [
  {
   "cell_type": "code",
   "execution_count": 1,
   "metadata": {},
   "outputs": [
    {
     "name": "stderr",
     "output_type": "stream",
     "text": [
      "c:\\Users\\raulg\\Documents\\THEBRIDGE_DS\\0.-Repo_Git\\Material Data Science\\Langgraph-course\\lc-academy-env\\Lib\\site-packages\\tqdm\\auto.py:21: TqdmWarning: IProgress not found. Please update jupyter and ipywidgets. See https://ipywidgets.readthedocs.io/en/stable/user_install.html\n",
      "  from .autonotebook import tqdm as notebook_tqdm\n"
     ]
    }
   ],
   "source": [
    "import os, getpass\n",
    "from dotenv import load_dotenv, find_dotenv\n",
    "from langchain_community.tools.tavily_search import TavilySearchResults\n",
    "from langchain_google_genai import ChatGoogleGenerativeAI\n",
    "from langgraph.graph import MessagesState\n",
    "from langchain_core.messages import HumanMessage, SystemMessage, AIMessage, BaseMessage, AnyMessage\n",
    "from langgraph.graph import START, StateGraph, END\n",
    "from langgraph.prebuilt import tools_condition\n",
    "from langgraph.prebuilt import ToolNode\n",
    "from IPython.display import Image, display\n",
    "from langchain_core.messages import trim_messages, RemoveMessage\n",
    "from typing_extensions import TypedDict\n",
    "from langgraph.graph.message import add_messages\n",
    "from typing import Annotated, Union\n",
    "from langgraph.checkpoint.sqlite import SqliteSaver\n",
    "\n",
    "\n",
    "\n",
    "\n",
    "\n",
    "load_dotenv(find_dotenv())\n",
    "os.environ[\"LANGCHAIN_PROJECT\"] = \"ex_module-2\"\n",
    "os.environ[\"LANGCHAIN_TRACING_V2\"] = \"true\"\n",
    "model = ChatGoogleGenerativeAI(model=\"gemini-1.5-flash\",temperature=0)"
   ]
  },
  {
   "cell_type": "markdown",
   "metadata": {},
   "source": [
    "# Introduction to LangGraph - Module 2 exercises"
   ]
  },
  {
   "cell_type": "markdown",
   "metadata": {},
   "source": [
    "## Goals:\n",
    "We're going to test our knowledge after module 2 of Langgraph's course. Concretely:\n",
    "- Message trimming, filtering and summarization.\n",
    "- Multiple schemas.\n",
    "- Storage of the states in an external database.\n"
   ]
  },
  {
   "cell_type": "markdown",
   "metadata": {},
   "source": [
    "### 1.- You are given the following list of messages:"
   ]
  },
  {
   "cell_type": "code",
   "execution_count": 2,
   "metadata": {},
   "outputs": [],
   "source": [
    "messages = [\n",
    "    {\"role\": \"user\", \"content\": \"Hello\", \"notes\": None},\n",
    "    {\"role\": \"ai\", \"content\": \"Good morning, how are you?\", \"notes\": None},\n",
    "    {\"role\": \"user\", \"content\": \"Ok\", \"notes\": \"The user says they're ok\"},\n",
    "    {\"role\": \"ai\", \"content\": \"Perfect, thank you!\", \"notes\": None},\n",
    "    {\"role\": \"user\", \"content\": \"Can you help me with a problem?\", \"notes\": \"User requests assistance\"},\n",
    "    {\"role\": \"ai\", \"content\": \"Of course! What can I help you with?\", \"notes\": None},\n",
    "    {\"role\": \"user\", \"content\": \"I'm having trouble with my code\", \"notes\": \"User mentions coding issues\"},\n",
    "    {\"role\": \"ai\", \"content\": \"I'll be happy to help. Can you describe the problem?\", \"notes\": None},\n",
    "    {\"role\": \"user\", \"content\": \"It's about Python loops\", \"notes\": \"User specifies Python loops as the topic\"},\n",
    "    {\"role\": \"ai\", \"content\": \"Let's work through your Python loops question together.\", \"notes\": None}\n",
    "]"
   ]
  },
  {
   "cell_type": "markdown",
   "metadata": {},
   "source": [
    "Using Langchain's `trim_messages` function, make sure that you only keep the messages that account for **30** tokens. Make it ready to be used in a graph."
   ]
  },
  {
   "cell_type": "code",
   "execution_count": 3,
   "metadata": {},
   "outputs": [
    {
     "data": {
      "text/plain": [
       "[HumanMessage(content=\"It's about Python loops\", additional_kwargs={'notes': 'User specifies Python loops as the topic'}, response_metadata={}),\n",
       " AIMessage(content=\"Let's work through your Python loops question together.\", additional_kwargs={'notes': None}, response_metadata={})]"
      ]
     },
     "execution_count": 3,
     "metadata": {},
     "output_type": "execute_result"
    }
   ],
   "source": [
    "trimmed = trim_messages(\n",
    "        messages,\n",
    "        max_tokens=30,\n",
    "        strategy=\"last\",\n",
    "        token_counter=model,\n",
    "        allow_partial=False\n",
    "    )\n",
    "trimmed"
   ]
  },
  {
   "cell_type": "markdown",
   "metadata": {},
   "source": [
    "### 2.- Create a graph that can store the last messages with a total of 30 tokens in an internal list. Show how it works"
   ]
  },
  {
   "cell_type": "markdown",
   "metadata": {},
   "source": [
    "**Hint**: You'll probably need a custom TypedDict class, since `MessagesState` always adds up new messages instead of replacing them"
   ]
  },
  {
   "cell_type": "code",
   "execution_count": 4,
   "metadata": {},
   "outputs": [],
   "source": [
    "class custom_messages(TypedDict):\n",
    "    messages: list[AnyMessage]\n",
    "    "
   ]
  },
  {
   "cell_type": "code",
   "execution_count": 5,
   "metadata": {},
   "outputs": [
    {
     "data": {
      "image/png": "[encoded data removed]",
      "text/plain": [
       "<IPython.core.display.Image object>"
      ]
     },
     "metadata": {},
     "output_type": "display_data"
    }
   ],
   "source": [
    "def chat_model_node(state: custom_messages):\n",
    "    trimmed = trim_messages(\n",
    "            state[\"messages\"],\n",
    "            max_tokens=30,\n",
    "            strategy=\"last\",\n",
    "            token_counter=model,\n",
    "            allow_partial=False\n",
    "        )\n",
    "    return {\"messages\": trimmed}\n",
    "\n",
    "# Build graph\n",
    "builder = StateGraph(custom_messages)\n",
    "builder.add_node(\"chat_model\", chat_model_node)\n",
    "builder.add_edge(START, \"chat_model\")\n",
    "builder.add_edge(\"chat_model\", END)\n",
    "graph = builder.compile()\n",
    "\n",
    "# View\n",
    "display(Image(graph.get_graph().draw_mermaid_png()))"
   ]
  },
  {
   "cell_type": "code",
   "execution_count": 6,
   "metadata": {},
   "outputs": [
    {
     "data": {
      "text/plain": [
       "{'messages': [HumanMessage(content=\"It's about Python loops\", additional_kwargs={'notes': 'User specifies Python loops as the topic'}, response_metadata={}),\n",
       "  AIMessage(content=\"Let's work through your Python loops question together.\", additional_kwargs={'notes': None}, response_metadata={})]}"
      ]
     },
     "execution_count": 6,
     "metadata": {},
     "output_type": "execute_result"
    }
   ],
   "source": [
    "chat_model_node({\"messages\":messages})"
   ]
  },
  {
   "cell_type": "code",
   "execution_count": 7,
   "metadata": {},
   "outputs": [
    {
     "name": "stdout",
     "output_type": "stream",
     "text": [
      "================================\u001b[1m Human Message \u001b[0m=================================\n",
      "\n",
      "It's about Python loops\n",
      "==================================\u001b[1m Ai Message \u001b[0m==================================\n",
      "\n",
      "Let's work through your Python loops question together.\n"
     ]
    }
   ],
   "source": [
    "output = graph.invoke({\"messages\":messages})\n",
    "for m in output['messages']:\n",
    "    m.pretty_print()"
   ]
  },
  {
   "cell_type": "markdown",
   "metadata": {},
   "source": [
    "#### 2.1.- What if we wanted to filter the messages using MessageState? Can you think on any way to do it? Leave only the messages trimmed by the original node."
   ]
  },
  {
   "cell_type": "code",
   "execution_count": 16,
   "metadata": {},
   "outputs": [
    {
     "data": {
      "image/png": "[encoded data removed]",
      "text/plain": [
       "<IPython.core.display.Image object>"
      ]
     },
     "metadata": {},
     "output_type": "display_data"
    }
   ],
   "source": [
    "def chat_model_node(state: MessagesState):\n",
    "    delete_messages = [RemoveMessage(id=m.id) for m in state[\"messages\"][0:]] ### This is the function that removes **all** the messages\n",
    "    trimmed = trim_messages(\n",
    "            state[\"messages\"],\n",
    "            max_tokens=30,\n",
    "            strategy=\"last\",\n",
    "            token_counter=model,\n",
    "            allow_partial=False\n",
    "        )\n",
    "    \n",
    "    return {\"messages\": delete_messages + trimmed} ### And we concatenate both the deleted list and the trimmed messages\n",
    "\n",
    "# Build graph\n",
    "builder = StateGraph(MessagesState)\n",
    "builder.add_node(\"chat_model\", chat_model_node)\n",
    "builder.add_edge(START, \"chat_model\")\n",
    "builder.add_edge(\"chat_model\", END)\n",
    "graph = builder.compile()\n",
    "\n",
    "# View\n",
    "display(Image(graph.get_graph().draw_mermaid_png()))"
   ]
  },
  {
   "cell_type": "code",
   "execution_count": 17,
   "metadata": {},
   "outputs": [
    {
     "name": "stdout",
     "output_type": "stream",
     "text": [
      "================================\u001b[1m Human Message \u001b[0m=================================\n",
      "\n",
      "It's about Python loops\n",
      "==================================\u001b[1m Ai Message \u001b[0m==================================\n",
      "\n",
      "Let's work through your Python loops question together.\n"
     ]
    }
   ],
   "source": [
    "output = graph.invoke({\"messages\":messages})\n",
    "for m in output['messages']:\n",
    "    m.pretty_print()"
   ]
  },
  {
   "cell_type": "markdown",
   "metadata": {},
   "source": [
    "### 3.- We now want three-state multiple schema: \n",
    "- A state for the model to take as a briefing of the previous conversation (InputState).\n",
    "- A state that also includes two new keys: the number of the iterarion, and the first node to appear (OverallState).\n",
    "- A state that only shows a trimmed part of the conversarion, and the first node to appear (OutputState)."
   ]
  },
  {
   "cell_type": "markdown",
   "metadata": {},
   "source": [
    "#### 3.1.- Create the needed States. "
   ]
  },
  {
   "cell_type": "code",
   "execution_count": 9,
   "metadata": {},
   "outputs": [],
   "source": [
    "class InputState(TypedDict): ### We need a custom input state, as it won't work with the normal messagesstate because of naming.\n",
    "    messages: list[AnyMessage]\n",
    "\n",
    "class OverallState(TypedDict):\n",
    "    messages: list[AnyMessage]\n",
    "    iteration: int\n",
    "    first_node: str\n",
    "\n",
    "class OutputState(TypedDict):\n",
    "    output_messages: list[AnyMessage]\n",
    "    first_node: str"
   ]
  },
  {
   "cell_type": "markdown",
   "metadata": {},
   "source": [
    "#### 3.2.- Create a condition that only trims the conversation if there are more than 2 messages"
   ]
  },
  {
   "cell_type": "code",
   "execution_count": 10,
   "metadata": {},
   "outputs": [],
   "source": [
    "def decide_trimmer(state):\n",
    "    if len(state['messages']) > 2:\n",
    "        return \"trimmer_node\"\n",
    "    else:\n",
    "        return \"answer_node\""
   ]
  },
  {
   "cell_type": "markdown",
   "metadata": {},
   "source": [
    "#### 3.3.- Create and compile the new graph, separating a `trimmer_node` and an `answer_node`. Remember to include the `decide_trimmer` and the states created above."
   ]
  },
  {
   "cell_type": "code",
   "execution_count": 11,
   "metadata": {},
   "outputs": [
    {
     "data": {
      "image/png": "[encoded data removed]",
      "text/plain": [
       "<IPython.core.display.Image object>"
      ]
     },
     "metadata": {},
     "output_type": "display_data"
    }
   ],
   "source": [
    "def trimmer_node(state: InputState) -> OverallState:\n",
    "    trimmed = trim_messages(\n",
    "            state[\"messages\"],\n",
    "            max_tokens=30,\n",
    "            strategy=\"last\",\n",
    "            token_counter=model,\n",
    "            allow_partial=False\n",
    "        )\n",
    "    return {\"messages\": trimmed, \"iteration\": 1, \"first_node\": \"trimmer_node\"}\n",
    "\n",
    "def answer_node(state: InputState | OverallState) -> OutputState: ### This way we make sure either states can be accepted\n",
    "    messages = state[\"messages\"]\n",
    "    return {\n",
    "        \"output_messages\": model.invoke(messages), \n",
    "        \"first_node\": state.get(\"first_node\", \"answer_node\")\n",
    "    }\n",
    "\n",
    "builder = StateGraph(OverallState, input=InputState, output=OutputState)\n",
    "builder.add_node(\"trimmer_node\", trimmer_node)\n",
    "builder.add_node(\"answer_node\", answer_node)\n",
    "builder.add_conditional_edges(\n",
    "    START, \n",
    "    decide_trimmer,\n",
    "    {\"trimmer_node\": \"trimmer_node\", \"answer_node\": \"answer_node\"}\n",
    ")\n",
    "builder.add_edge(\"trimmer_node\", \"answer_node\")\n",
    "builder.add_edge(\"answer_node\", END)\n",
    "graph = builder.compile()\n",
    "\n",
    "display(Image(graph.get_graph().draw_mermaid_png()))"
   ]
  },
  {
   "cell_type": "code",
   "execution_count": 13,
   "metadata": {},
   "outputs": [],
   "source": [
    "output = graph.invoke({\"messages\":messages})"
   ]
  },
  {
   "cell_type": "code",
   "execution_count": 14,
   "metadata": {},
   "outputs": [
    {
     "data": {
      "text/plain": [
       "{'output_messages': AIMessage(content='To best help you, I need more information.  Please tell me:\\n\\n* **What specifically do you want to know about Python loops?**  Are you having trouble with a particular type of loop (e.g., `for`, `while`)?  Are you trying to understand a specific concept (e.g., loop control statements like `break` and `continue`, nested loops, iterators)?  Are you working on a particular problem and encountering an error?\\n\\n* **What have you tried already?**  Showing your code (even if it\\'s not working) helps me understand your current approach and identify where you might be stuck.\\n\\n* **What is the desired outcome?**  What should your code be doing?\\n\\nFor example, you could ask:\\n\\n* \"I\\'m trying to use a `for` loop to iterate through a list of numbers and print only the even numbers.  My code isn\\'t working correctly.  Here\\'s what I have:  `numbers = [1, 2, 3, 4, 5, 6]; for number in numbers: print(number)`  How can I modify it to only print even numbers?\"\\n\\n* \"What\\'s the difference between `for` and `while` loops in Python?\"\\n\\n* \"How can I use nested loops to create a multiplication table?\"\\n\\n* \"I\\'m getting an `IndexError` in my loop.  How can I avoid this?\"\\n\\nThe more detail you provide, the better I can assist you.', additional_kwargs={}, response_metadata={'prompt_feedback': {'block_reason': 0, 'safety_ratings': []}, 'finish_reason': 'STOP', 'safety_ratings': []}, id='run-a418f0b9-17ba-459a-996d-4240b937f54f-0', usage_metadata={'input_tokens': 17, 'output_tokens': 321, 'total_tokens': 338, 'input_token_details': {'cache_read': 0}}),\n",
       " 'first_node': 'trimmer_node'}"
      ]
     },
     "execution_count": 14,
     "metadata": {},
     "output_type": "execute_result"
    }
   ],
   "source": [
    "output"
   ]
  },
  {
   "cell_type": "markdown",
   "metadata": {},
   "source": [
    "### 4.- Now we've got some other messages:"
   ]
  },
  {
   "cell_type": "code",
   "execution_count": 15,
   "metadata": {},
   "outputs": [],
   "source": [
    "messages = [\n",
    "    {\"role\": \"user\", \"content\": \"Hello\", \"notes\": None},\n",
    "    {\"role\": \"ai\", \"content\": \"Good morning, how are you?\", \"notes\": None},\n",
    "    {\"role\": \"user\", \"content\": \"Ok\", \"notes\": \"The user says they're ok\"},\n",
    "    {\"role\": \"ai\", \"content\": \"Perfect, thank you!\", \"notes\": None},\n",
    "    {\"role\": \"user\", \"content\": \"Can you help me with a problem?\", \"notes\": \"User requests assistance\"},\n",
    "    {\"role\": \"ai\", \"content\": \"Of course! What can I help you with?\", \"notes\": None},\n",
    "    {\"role\": \"user\", \"content\": \"I'm having trouble with my code\", \"notes\": \"User mentions coding issues\"},\n",
    "    {\"role\": \"ai\", \"content\": \"I'll be happy to help. Can you describe the problem?\", \"notes\": None},\n",
    "    {\"role\": \"user\", \"content\": \"It's about Python loops\", \"notes\": \"User specifies Python loops as the topic\"},\n",
    "    {\"role\": \"ai\", \"content\": \"Let's work through your Python loops question together.\", \"notes\": None},\n",
    "    {\"role\": \"user\", \"content\": \"How do I apply the same operation to each item in the collection without writing it out repeatedly?\", \"notes\":\"User is asking about the concept of iteration or looping in programming.\" }\n",
    "]"
   ]
  },
  {
   "cell_type": "markdown",
   "metadata": {},
   "source": [
    "Make a function that summarizes all the notes from the user. Include the message trimming used before."
   ]
  },
  {
   "cell_type": "code",
   "execution_count": 16,
   "metadata": {},
   "outputs": [],
   "source": [
    "def summarize(state: InputState) -> OverallState:\n",
    "    summary = state.get(\"summary\", \"\")\n",
    "    messages = state[\"messages\"]\n",
    "    # Create our summarization prompt \n",
    "    if summary:\n",
    "        \n",
    "        # A summary already exists\n",
    "        summary_message = (\n",
    "            f\"This is summary of the conversation to date: {summary}\\n\\n\"\n",
    "            \"Extend the summary by taking into account the new messages above:\"\n",
    "        )\n",
    "        \n",
    "    else:\n",
    "        summary_message = f\"Create a summary of the conversation above:{messages}\"\n",
    "    \n",
    "    # Add prompt to our history\n",
    "    response = model.invoke(summary_message)\n",
    "    \n",
    "    # Delete all but the 2 most recent messages\n",
    "    trimmed_messages = trim_messages(\n",
    "                        messages,\n",
    "                        max_tokens=30,\n",
    "                        strategy=\"last\",\n",
    "                        token_counter=model,\n",
    "                        allow_partial=False\n",
    "                        )   \n",
    "    return {\"summary\": response.content, \"messages\": trimmed_messages, \"iteration\":1, \"first_node\":\"summarizer\"}"
   ]
  },
  {
   "cell_type": "markdown",
   "metadata": {},
   "source": [
    "### 5.- And build a new graph that includes the summarization as a node. The graph would only use the summarization node whenever there are more than 3 messages, and should also include the trimming of the messages. Make the necessary changes to the states to include the new \"summary\"\n"
   ]
  },
  {
   "cell_type": "markdown",
   "metadata": {},
   "source": [
    "Include the summary on the output so we can see it works"
   ]
  },
  {
   "cell_type": "code",
   "execution_count": 18,
   "metadata": {},
   "outputs": [],
   "source": [
    "class InputState(TypedDict): ### We need a custom input state, as it won't work with the normal messagesstate because of naming.\n",
    "    messages: list[AnyMessage]\n",
    "\n",
    "class OverallState(TypedDict):\n",
    "    messages: list[AnyMessage]\n",
    "    summary: str\n",
    "    iteration: int\n",
    "    first_node: str\n",
    "\n",
    "class OutputState(TypedDict):\n",
    "    output_messages: list[AnyMessage]\n",
    "    first_node: str\n",
    "    summary: str"
   ]
  },
  {
   "cell_type": "code",
   "execution_count": 19,
   "metadata": {},
   "outputs": [
    {
     "data": {
      "image/png": "[encoded data removed]",
      "text/plain": [
       "<IPython.core.display.Image object>"
      ]
     },
     "metadata": {},
     "output_type": "display_data"
    }
   ],
   "source": [
    "builder = StateGraph(OverallState, input=InputState, output=OutputState)\n",
    "builder.add_node(\"summarizator\", summarize)\n",
    "builder.add_node(\"answer_node\", answer_node)\n",
    "builder.add_conditional_edges(\n",
    "    START, \n",
    "    decide_trimmer,\n",
    "    {\"trimmer_node\": \"summarizator\", \"answer_node\": \"answer_node\"}\n",
    ")\n",
    "builder.add_edge(\"summarizator\", \"answer_node\")\n",
    "builder.add_edge(\"answer_node\", END)\n",
    "graph = builder.compile()\n",
    "display(Image(graph.get_graph().draw_mermaid_png()))"
   ]
  },
  {
   "cell_type": "code",
   "execution_count": 20,
   "metadata": {},
   "outputs": [
    {
     "data": {
      "text/plain": [
       "{'output_messages': AIMessage(content='The best way to apply the same operation to each item in a collection without repeating code depends on the programming language you\\'re using.  Here are some common approaches:\\n\\n**1. Loops (Imperative Approach):**\\n\\nThis is the most fundamental method.  You iterate through the collection and apply the operation within the loop body.\\n\\n* **Python:**\\n\\n```python\\nmy_list = [1, 2, 3, 4, 5]\\n\\n# Using a for loop\\nfor i in range(len(my_list)):\\n    my_list[i] *= 2  # Double each element\\n\\n# Using a list comprehension (more concise)\\nmy_list = [x * 2 for x in my_list]\\n\\nprint(my_list)  # Output: [2, 4, 6, 8, 10]\\n```\\n\\n* **JavaScript:**\\n\\n```javascript\\nlet myArray = [1, 2, 3, 4, 5];\\n\\n// Using a for loop\\nfor (let i = 0; i < myArray.length; i++) {\\n  myArray[i] *= 2;\\n}\\n\\n// Using map (more functional approach)\\nlet doubledArray = myArray.map(x => x * 2);\\n\\nconsole.log(myArray); // Output: [2, 4, 6, 8, 10]\\nconsole.log(doubledArray); // Output: [2, 4, 6, 8, 10]\\n```\\n\\n* **Java:**\\n\\n```java\\nList<Integer> myList = Arrays.asList(1, 2, 3, 4, 5);\\n\\n// Using a for-each loop\\nfor (Integer num : myList) {\\n    // Note: You can\\'t modify the list directly within a for-each loop in this case because it\\'s an immutable list.  You\\'d need an iterator or a new list.\\n}\\n\\n// Using streams (Java 8+)\\nList<Integer> doubledList = myList.stream()\\n                                 .map(x -> x * 2)\\n                                 .collect(Collectors.toList());\\n\\nSystem.out.println(doubledList); // Output: [2, 4, 6, 8, 10]\\n```\\n\\n\\n**2. Functional Programming (Higher-Order Functions):**\\n\\nMany modern languages support functional programming paradigms, offering higher-order functions like `map`, `filter`, and `reduce`. These functions take another function as an argument, applying it to each element of the collection.  This is generally preferred for readability and conciseness.\\n\\n* **Python (List Comprehension is a form of map):**  Shown above.\\n* **JavaScript (`map`):** Shown above.\\n* **Java (`Stream.map`):** Shown above.\\n* **C# (`Select`):**\\n\\n```csharp\\nList<int> myList = new List<int> { 1, 2, 3, 4, 5 };\\n\\nList<int> doubledList = myList.Select(x => x * 2).ToList();\\n\\nConsole.WriteLine(string.Join(\", \", doubledList)); // Output: 2, 4, 6, 8, 10\\n```\\n\\n\\n**3. Libraries:**\\n\\nSome libraries provide specialized functions for parallel processing or other optimized ways to apply operations to collections.  For example, in Python, NumPy is excellent for numerical computations on arrays.\\n\\n\\n**Choosing the Right Approach:**\\n\\n* **Readability and Maintainability:** Functional approaches (like `map`) are often more readable and easier to maintain than explicit loops, especially for complex operations.\\n* **Performance:** For very large collections, parallel processing techniques might offer significant performance improvements.  However, the overhead of parallelization might outweigh the benefits for smaller collections.\\n* **Language Features:**  Utilize the built-in features of your language.  If your language has a `map` function, use it!\\n\\n\\nRemember to always consider the specific context (size of the collection, complexity of the operation, performance requirements) when choosing the best method.  For simple operations on small collections, a loop might be sufficient.  For more complex operations or large datasets, functional programming or parallel processing techniques are generally preferred.', additional_kwargs={}, response_metadata={'prompt_feedback': {'block_reason': 0, 'safety_ratings': []}, 'finish_reason': 'STOP', 'safety_ratings': []}, id='run-d1c95c3a-538e-447b-85ae-9906d0df2419-0', usage_metadata={'input_tokens': 19, 'output_tokens': 926, 'total_tokens': 945, 'input_token_details': {'cache_read': 0}}),\n",
       " 'first_node': 'summarizer',\n",
       " 'summary': 'The conversation begins with pleasantries.  The user then requests help with a Python coding problem involving loops.  Specifically, the user wants to know how to efficiently apply the same operation to every item in a collection without repetitive code.  The AI expresses willingness to assist.'}"
      ]
     },
     "execution_count": 20,
     "metadata": {},
     "output_type": "execute_result"
    }
   ],
   "source": [
    "output = graph.invoke({\"messages\":messages})\n",
    "output"
   ]
  },
  {
   "cell_type": "code",
   "execution_count": 21,
   "metadata": {},
   "outputs": [],
   "source": [
    "no_sum_messages = [\n",
    "    # {\"role\": \"user\", \"content\": \"Hello\", \"notes\": None},\n",
    "    # {\"role\": \"ai\", \"content\": \"Good morning, how are you?\", \"notes\": None},\n",
    "    # {\"role\": \"user\", \"content\": \"Ok\", \"notes\": \"The user says they're ok\"},\n",
    "    # {\"role\": \"ai\", \"content\": \"Perfect, thank you!\", \"notes\": None},\n",
    "    # {\"role\": \"user\", \"content\": \"Can you help me with a problem?\", \"notes\": \"User requests assistance\"},\n",
    "    # {\"role\": \"ai\", \"content\": \"Of course! What can I help you with?\", \"notes\": None},\n",
    "    # {\"role\": \"user\", \"content\": \"I'm having trouble with my code\", \"notes\": \"User mentions coding issues\"},\n",
    "    # {\"role\": \"ai\", \"content\": \"I'll be happy to help. Can you describe the problem?\", \"notes\": None},\n",
    "    # {\"role\": \"user\", \"content\": \"It's about Python loops\", \"notes\": \"User specifies Python loops as the topic\"},\n",
    "    {\"role\": \"ai\", \"content\": \"Let's work through your Python loops question together.\", \"notes\": None},\n",
    "    {\"role\": \"user\", \"content\": \"How do I apply the same operation to each item in the collection without writing it out repeatedly?\", \"notes\":\"User is asking about the concept of iteration or looping in programming.\" }\n",
    "\n",
    "]"
   ]
  },
  {
   "cell_type": "code",
   "execution_count": 22,
   "metadata": {},
   "outputs": [
    {
     "data": {
      "text/plain": [
       "{'output_messages': AIMessage(content=\"The best way to apply the same operation to each item in a collection without repeating code is to use loops or list comprehensions (for lists and similar iterable objects).  Here's how, with examples:\\n\\n**1. `for` loop:**\\n\\nThis is the most fundamental approach.  It iterates through each item in the collection, allowing you to perform your operation on each one.\\n\\n```python\\nmy_list = [1, 2, 3, 4, 5]\\n\\n# Add 1 to each element\\nfor i in range(len(my_list)):\\n    my_list[i] += 1\\n\\nprint(my_list)  # Output: [2, 3, 4, 5, 6]\\n\\n\\n#Another example:  Square each number\\nmy_list = [1, 2, 3, 4, 5]\\nsquared_list = []\\nfor num in my_list:\\n    squared_list.append(num**2)\\n\\nprint(squared_list) # Output: [1, 4, 9, 16, 25]\\n\\n#More efficient way to do the above using list comprehension (see below)\\n```\\n\\n**2. List Comprehension (for lists):**\\n\\nList comprehensions provide a concise way to create new lists by applying an operation to each item in an existing iterable.  They're often more readable and efficient than explicit `for` loops for simple operations.\\n\\n```python\\nmy_list = [1, 2, 3, 4, 5]\\n\\n# Add 1 to each element\\nmy_list = [x + 1 for x in my_list]\\nprint(my_list)  # Output: [2, 3, 4, 5, 6]\\n\\n# Square each number (more efficient than the for loop example above)\\nsquared_list = [x**2 for x in my_list]\\nprint(squared_list) # Output: [4, 9, 16, 25, 36]\\n\\n#Conditional list comprehension: only square even numbers\\nmy_list = [1, 2, 3, 4, 5]\\nsquared_evens = [x**2 for x in my_list if x % 2 == 0]\\nprint(squared_evens) # Output: [4, 16]\\n```\\n\\n**3. `map()` function:**\\n\\nThe `map()` function applies a given function to each item of an iterable and returns an iterator.  This is particularly useful when you have a function already defined.\\n\\n```python\\nmy_list = [1, 2, 3, 4, 5]\\n\\ndef add_one(x):\\n    return x + 1\\n\\n# Add 1 to each element\\nnew_list = list(map(add_one, my_list)) #Note: map returns an iterator, so we need to convert it to a list\\nprint(new_list)  # Output: [2, 3, 4, 5, 6]\\n\\n#Square each number using a lambda function\\nsquared_list = list(map(lambda x: x**2, my_list))\\nprint(squared_list) # Output: [1, 4, 9, 16, 25]\\n```\\n\\n**4. NumPy (for numerical data):**\\n\\nIf you're working with numerical data, NumPy is incredibly efficient.  It allows you to perform vectorized operations, applying the operation to the entire array at once.\\n\\n```python\\nimport numpy as np\\n\\nmy_array = np.array([1, 2, 3, 4, 5])\\n\\n# Add 1 to each element\\nmy_array += 1\\nprint(my_array)  # Output: [2 3 4 5 6]\\n\\n# Square each element\\nsquared_array = my_array**2\\nprint(squared_array) # Output: [ 4  9 16 25 36]\\n```\\n\\nChoose the method that best suits your needs and the type of collection you're working with.  For simple operations on lists, list comprehensions are often the most elegant and efficient. For more complex operations or large datasets, `map()` or NumPy might be preferable.  For other iterable types (like sets or tuples), the `for` loop is generally the most versatile.\", additional_kwargs={}, response_metadata={'prompt_feedback': {'block_reason': 0, 'safety_ratings': []}, 'finish_reason': 'STOP', 'safety_ratings': []}, id='run-975c6b28-fd49-4732-afde-e861dc402fdd-0', usage_metadata={'input_tokens': 30, 'output_tokens': 966, 'total_tokens': 996, 'input_token_details': {'cache_read': 0}}),\n",
       " 'first_node': 'answer_node'}"
      ]
     },
     "execution_count": 22,
     "metadata": {},
     "output_type": "execute_result"
    }
   ],
   "source": [
    "output = graph.invoke({\"messages\":no_sum_messages})\n",
    "output"
   ]
  },
  {
   "cell_type": "markdown",
   "metadata": {},
   "source": [
    "### 6.- Now let's store all the messages in a SQLite database:"
   ]
  },
  {
   "cell_type": "markdown",
   "metadata": {},
   "source": [
    "#### 6.1.- Create a new .db file and create a new table called \"messages\". Do it with SQLite3."
   ]
  },
  {
   "cell_type": "code",
   "execution_count": 23,
   "metadata": {},
   "outputs": [],
   "source": [
    "import sqlite3\n",
    "conn = sqlite3.connect(\"data/ex_module-2.db\", check_same_thread=False)\n",
    "cursor = conn.cursor()\n"
   ]
  },
  {
   "cell_type": "markdown",
   "metadata": {},
   "source": [
    "#### 6.2.- Make a ckeckpointer with `SQLiteSaver`, and make the functions to call the model, and summarize the conversation coming from the database.\n"
   ]
  },
  {
   "cell_type": "code",
   "execution_count": 25,
   "metadata": {},
   "outputs": [
    {
     "data": {
      "image/png": "[encoded data removed]",
      "text/plain": [
       "<IPython.core.display.Image object>"
      ]
     },
     "metadata": {},
     "output_type": "display_data"
    }
   ],
   "source": [
    "memory = SqliteSaver(conn)\n",
    "\n",
    "builder = StateGraph(OverallState, input=InputState, output=OutputState)\n",
    "builder.add_node(\"summarizator\", summarize)\n",
    "builder.add_node(\"answer_node\", answer_node)\n",
    "builder.add_conditional_edges(\n",
    "    START, \n",
    "    decide_trimmer,\n",
    "    {\"trimmer_node\": \"summarizator\", \"answer_node\": \"answer_node\"}\n",
    ")\n",
    "builder.add_edge(\"summarizator\", \"answer_node\")\n",
    "builder.add_edge(\"answer_node\", END)\n",
    "graph = builder.compile(checkpointer=memory)\n",
    "display(Image(graph.get_graph().draw_mermaid_png()))"
   ]
  },
  {
   "cell_type": "markdown",
   "metadata": {},
   "source": [
    "#### 6.3.- Give it a try! Use a thread_id and check that is saved locally. Use the original `messages` list."
   ]
  },
  {
   "cell_type": "code",
   "execution_count": 27,
   "metadata": {},
   "outputs": [
    {
     "data": {
      "text/plain": [
       "{'output_messages': AIMessage(content='The best way to apply the same operation to each item in a collection without repeating code depends on the programming language you\\'re using.  Here are some common approaches:\\n\\n**1. Loops (Imperative Approach):**\\n\\nThis is the most fundamental method.  You iterate through the collection and apply the operation within the loop body.\\n\\n* **Python:**\\n\\n```python\\nmy_list = [1, 2, 3, 4, 5]\\n\\n# Using a for loop\\nfor i in range(len(my_list)):\\n  my_list[i] *= 2  # Double each element\\n\\n# Using a list comprehension (more concise)\\nmy_list = [x * 2 for x in my_list]\\n\\nprint(my_list)  # Output: [2, 4, 6, 8, 10]\\n```\\n\\n* **JavaScript:**\\n\\n```javascript\\nlet myArray = [1, 2, 3, 4, 5];\\n\\n// Using a for loop\\nfor (let i = 0; i < myArray.length; i++) {\\n  myArray[i] *= 2;\\n}\\n\\n// Using map (more functional approach)\\nlet doubledArray = myArray.map(x => x * 2);\\n\\nconsole.log(myArray); // Output: [2, 4, 6, 8, 10]\\nconsole.log(doubledArray); // Output: [2, 4, 6, 8, 10]\\n```\\n\\n* **Java:**\\n\\n```java\\nList<Integer> myList = Arrays.asList(1, 2, 3, 4, 5);\\n\\n// Using a for-each loop\\nfor (Integer num : myList) {\\n  // Note: You can\\'t modify the list directly within a for-each loop in this case because it\\'s an immutable list.  You\\'d need an iterator or a new list.\\n}\\n\\n// Using streams (Java 8+)\\nList<Integer> doubledList = myList.stream()\\n                                 .map(x -> x * 2)\\n                                 .collect(Collectors.toList());\\n\\nSystem.out.println(doubledList); // Output: [2, 4, 6, 8, 10]\\n```\\n\\n\\n**2. Functional Programming (Higher-Order Functions):**\\n\\nMany modern languages support functional programming paradigms, offering higher-order functions like `map`, `filter`, and `reduce`. These functions take another function as an argument, applying it to each element of the collection.  This is generally preferred for readability and conciseness.\\n\\n* **Python (List Comprehension is a form of map):**  Shown above.\\n* **JavaScript (`map`):** Shown above.\\n* **Java (`Stream.map`):** Shown above.\\n* **C# (`Select`):**\\n\\n```csharp\\nList<int> myList = new List<int> { 1, 2, 3, 4, 5 };\\n\\nList<int> doubledList = myList.Select(x => x * 2).ToList();\\n\\nConsole.WriteLine(string.Join(\", \", doubledList)); // Output: 2, 4, 6, 8, 10\\n```\\n\\n\\n**3. Libraries:**\\n\\nSome libraries provide specialized functions for parallel processing or other optimized ways to apply operations to collections.  For example, in Python, NumPy is excellent for numerical computations on arrays.\\n\\n\\n**Choosing the Right Approach:**\\n\\n* **Readability and Maintainability:** Functional approaches (like `map`) are often more readable and easier to maintain than explicit loops, especially for complex operations.\\n* **Performance:** For very large collections, parallel processing techniques might offer significant performance improvements.  However, the overhead of parallelization might outweigh the benefits for smaller collections.\\n* **Language Features:**  Utilize the built-in features of your language.  If your language has a `map` function, use it!\\n\\n\\nRemember to always consider the specific context (size of the collection, complexity of the operation, performance requirements) when choosing the best method.  For simple operations on small collections, a loop might be sufficient.  For more complex operations or large datasets, functional programming or parallel processing techniques are generally preferred.', additional_kwargs={}, response_metadata={'prompt_feedback': {'block_reason': 0, 'safety_ratings': []}, 'finish_reason': 'STOP', 'safety_ratings': []}, id='run-ecd7ee72-574e-4dd5-a7cb-a427586d3729-0', usage_metadata={'input_tokens': 19, 'output_tokens': 926, 'total_tokens': 945, 'input_token_details': {'cache_read': 0}}),\n",
       " 'first_node': 'summarizer',\n",
       " 'summary': \"The conversation begins with pleasantries.  The user then requests help with a Python coding problem specifically involving loops.  The user's question focuses on efficiently applying the same operation to every item in a collection, indicating a need for understanding basic iteration techniques in Python.\"}"
      ]
     },
     "execution_count": 27,
     "metadata": {},
     "output_type": "execute_result"
    }
   ],
   "source": [
    "config = {\"configurable\": {\"thread_id\": \"1\"}}\n",
    "graph.invoke({\"messages\":messages},config)"
   ]
  },
  {
   "cell_type": "code",
   "execution_count": 31,
   "metadata": {},
   "outputs": [
    {
     "data": {
      "text/plain": [
       "StateSnapshot(values={'messages': [HumanMessage(content='How do I apply the same operation to each item in the collection without writing it out repeatedly?', additional_kwargs={'notes': 'User is asking about the concept of iteration or looping in programming.'}, response_metadata={})], 'summary': \"The conversation begins with pleasantries.  The user then requests help with a Python coding problem specifically involving loops.  The user's question focuses on efficiently applying the same operation to every item in a collection, indicating a need for understanding basic iteration techniques in Python.\", 'iteration': 1, 'first_node': 'summarizer', 'output_messages': AIMessage(content='The best way to apply the same operation to each item in a collection without repeating code depends on the programming language you\\'re using.  Here are some common approaches:\\n\\n**1. Loops (Imperative Approach):**\\n\\nThis is the most fundamental method.  You iterate through the collection and apply the operation within the loop body.\\n\\n* **Python:**\\n\\n```python\\nmy_list = [1, 2, 3, 4, 5]\\n\\n# Using a for loop\\nfor i in range(len(my_list)):\\n  my_list[i] *= 2  # Double each element\\n\\n# Using a list comprehension (more concise)\\nmy_list = [x * 2 for x in my_list]\\n\\nprint(my_list)  # Output: [2, 4, 6, 8, 10]\\n```\\n\\n* **JavaScript:**\\n\\n```javascript\\nlet myArray = [1, 2, 3, 4, 5];\\n\\n// Using a for loop\\nfor (let i = 0; i < myArray.length; i++) {\\n  myArray[i] *= 2;\\n}\\n\\n// Using map (more functional approach)\\nlet doubledArray = myArray.map(x => x * 2);\\n\\nconsole.log(myArray); // Output: [2, 4, 6, 8, 10]\\nconsole.log(doubledArray); // Output: [2, 4, 6, 8, 10]\\n```\\n\\n* **Java:**\\n\\n```java\\nList<Integer> myList = Arrays.asList(1, 2, 3, 4, 5);\\n\\n// Using a for-each loop\\nfor (Integer num : myList) {\\n  // Note: You can\\'t modify the list directly within a for-each loop in this case because it\\'s an immutable list.  You\\'d need an iterator or a new list.\\n}\\n\\n// Using streams (Java 8+)\\nList<Integer> doubledList = myList.stream()\\n                                 .map(x -> x * 2)\\n                                 .collect(Collectors.toList());\\n\\nSystem.out.println(doubledList); // Output: [2, 4, 6, 8, 10]\\n```\\n\\n\\n**2. Functional Programming (Higher-Order Functions):**\\n\\nMany modern languages support functional programming paradigms, offering higher-order functions like `map`, `filter`, and `reduce`. These functions take another function as an argument, applying it to each element of the collection.  This is generally preferred for readability and conciseness.\\n\\n* **Python (List Comprehension is a form of map):**  Shown above.\\n* **JavaScript (`map`):** Shown above.\\n* **Java (`Stream.map`):** Shown above.\\n* **C# (`Select`):**\\n\\n```csharp\\nList<int> myList = new List<int> { 1, 2, 3, 4, 5 };\\n\\nList<int> doubledList = myList.Select(x => x * 2).ToList();\\n\\nConsole.WriteLine(string.Join(\", \", doubledList)); // Output: 2, 4, 6, 8, 10\\n```\\n\\n\\n**3. Libraries:**\\n\\nSome libraries provide specialized functions for parallel processing or other optimized ways to apply operations to collections.  For example, in Python, NumPy is excellent for numerical computations on arrays.\\n\\n\\n**Choosing the Right Approach:**\\n\\n* **Readability and Maintainability:** Functional approaches (like `map`) are often more readable and easier to maintain than explicit loops, especially for complex operations.\\n* **Performance:** For very large collections, parallel processing techniques might offer significant performance improvements.  However, the overhead of parallelization might outweigh the benefits for smaller collections.\\n* **Language Features:**  Utilize the built-in features of your language.  If your language has a `map` function, use it!\\n\\n\\nRemember to always consider the specific context (size of the collection, complexity of the operation, performance requirements) when choosing the best method.  For simple operations on small collections, a loop might be sufficient.  For more complex operations or large datasets, functional programming or parallel processing techniques are generally preferred.', additional_kwargs={}, response_metadata={'prompt_feedback': {'block_reason': 0, 'safety_ratings': []}, 'finish_reason': 'STOP', 'safety_ratings': []}, id='run-ecd7ee72-574e-4dd5-a7cb-a427586d3729-0', usage_metadata={'input_tokens': 19, 'output_tokens': 926, 'total_tokens': 945, 'input_token_details': {'cache_read': 0}})}, next=(), config={'configurable': {'thread_id': '1', 'checkpoint_ns': '', 'checkpoint_id': '1eff3609-f36d-6a0a-8002-5723ce6671d4'}}, metadata={'source': 'loop', 'writes': {'answer_node': {'output_messages': AIMessage(content='The best way to apply the same operation to each item in a collection without repeating code depends on the programming language you\\'re using.  Here are some common approaches:\\n\\n**1. Loops (Imperative Approach):**\\n\\nThis is the most fundamental method.  You iterate through the collection and apply the operation within the loop body.\\n\\n* **Python:**\\n\\n```python\\nmy_list = [1, 2, 3, 4, 5]\\n\\n# Using a for loop\\nfor i in range(len(my_list)):\\n  my_list[i] *= 2  # Double each element\\n\\n# Using a list comprehension (more concise)\\nmy_list = [x * 2 for x in my_list]\\n\\nprint(my_list)  # Output: [2, 4, 6, 8, 10]\\n```\\n\\n* **JavaScript:**\\n\\n```javascript\\nlet myArray = [1, 2, 3, 4, 5];\\n\\n// Using a for loop\\nfor (let i = 0; i < myArray.length; i++) {\\n  myArray[i] *= 2;\\n}\\n\\n// Using map (more functional approach)\\nlet doubledArray = myArray.map(x => x * 2);\\n\\nconsole.log(myArray); // Output: [2, 4, 6, 8, 10]\\nconsole.log(doubledArray); // Output: [2, 4, 6, 8, 10]\\n```\\n\\n* **Java:**\\n\\n```java\\nList<Integer> myList = Arrays.asList(1, 2, 3, 4, 5);\\n\\n// Using a for-each loop\\nfor (Integer num : myList) {\\n  // Note: You can\\'t modify the list directly within a for-each loop in this case because it\\'s an immutable list.  You\\'d need an iterator or a new list.\\n}\\n\\n// Using streams (Java 8+)\\nList<Integer> doubledList = myList.stream()\\n                                 .map(x -> x * 2)\\n                                 .collect(Collectors.toList());\\n\\nSystem.out.println(doubledList); // Output: [2, 4, 6, 8, 10]\\n```\\n\\n\\n**2. Functional Programming (Higher-Order Functions):**\\n\\nMany modern languages support functional programming paradigms, offering higher-order functions like `map`, `filter`, and `reduce`. These functions take another function as an argument, applying it to each element of the collection.  This is generally preferred for readability and conciseness.\\n\\n* **Python (List Comprehension is a form of map):**  Shown above.\\n* **JavaScript (`map`):** Shown above.\\n* **Java (`Stream.map`):** Shown above.\\n* **C# (`Select`):**\\n\\n```csharp\\nList<int> myList = new List<int> { 1, 2, 3, 4, 5 };\\n\\nList<int> doubledList = myList.Select(x => x * 2).ToList();\\n\\nConsole.WriteLine(string.Join(\", \", doubledList)); // Output: 2, 4, 6, 8, 10\\n```\\n\\n\\n**3. Libraries:**\\n\\nSome libraries provide specialized functions for parallel processing or other optimized ways to apply operations to collections.  For example, in Python, NumPy is excellent for numerical computations on arrays.\\n\\n\\n**Choosing the Right Approach:**\\n\\n* **Readability and Maintainability:** Functional approaches (like `map`) are often more readable and easier to maintain than explicit loops, especially for complex operations.\\n* **Performance:** For very large collections, parallel processing techniques might offer significant performance improvements.  However, the overhead of parallelization might outweigh the benefits for smaller collections.\\n* **Language Features:**  Utilize the built-in features of your language.  If your language has a `map` function, use it!\\n\\n\\nRemember to always consider the specific context (size of the collection, complexity of the operation, performance requirements) when choosing the best method.  For simple operations on small collections, a loop might be sufficient.  For more complex operations or large datasets, functional programming or parallel processing techniques are generally preferred.', additional_kwargs={}, response_metadata={'prompt_feedback': {'block_reason': 0, 'safety_ratings': []}, 'finish_reason': 'STOP', 'safety_ratings': []}, id='run-ecd7ee72-574e-4dd5-a7cb-a427586d3729-0', usage_metadata={'input_tokens': 19, 'output_tokens': 926, 'total_tokens': 945, 'input_token_details': {'cache_read': 0}}), 'first_node': 'summarizer'}}, 'thread_id': '1', 'step': 2, 'parents': {}}, created_at='2025-02-25T10:09:38.535681+00:00', parent_config={'configurable': {'thread_id': '1', 'checkpoint_ns': '', 'checkpoint_id': '1eff3609-b5e4-6aa0-8001-e1d6333fe779'}}, tasks=())"
      ]
     },
     "execution_count": 31,
     "metadata": {},
     "output_type": "execute_result"
    }
   ],
   "source": [
    "output = graph.get_state(config)\n",
    "output"
   ]
  },
  {
   "cell_type": "code",
   "execution_count": 45,
   "metadata": {},
   "outputs": [
    {
     "data": {
      "text/plain": [
       "{'output_messages': AIMessage(content=\"Python offers several ways to efficiently apply the same operation to every item in a collection (like a list or tuple).  The most common are `for` loops and list comprehensions.\\n\\n**Using a `for` loop:**\\n\\nThis is the most straightforward approach.  You iterate through each item in the collection and perform your operation.\\n\\n```python\\nmy_list = [1, 2, 3, 4, 5]\\n\\n# Example: Square each number in the list\\nsquared_list = []\\nfor number in my_list:\\n  squared_list.append(number**2)\\n\\nprint(squared_list)  # Output: [1, 4, 9, 16, 25]\\n```\\n\\n**Using a list comprehension:**\\n\\nList comprehensions provide a more concise way to achieve the same result.  They are particularly useful for simple operations.\\n\\n```python\\nmy_list = [1, 2, 3, 4, 5]\\n\\n# Example: Square each number in the list (using list comprehension)\\nsquared_list = [number**2 for number in my_list]\\n\\nprint(squared_list)  # Output: [1, 4, 9, 16, 25]\\n```\\n\\nFor more complex operations, a `for` loop might be more readable.  However, list comprehensions often lead to more compact and efficient code.  If you can provide the specific operation you want to apply and the type of collection you're working with, I can give you a more tailored solution.\", additional_kwargs={}, response_metadata={'prompt_feedback': {'block_reason': 0, 'safety_ratings': []}, 'finish_reason': 'STOP', 'safety_ratings': []}, id='run-e20f3e4f-6050-426b-8625-0610c087971f-0', usage_metadata={'input_tokens': 61, 'output_tokens': 336, 'total_tokens': 397, 'input_token_details': {'cache_read': 0}}),\n",
       " 'first_node': 'summarizer',\n",
       " 'summary': \"The conversation begins with pleasantries.  The user then requests help with a Python coding problem specifically involving loops.  The user's question focuses on efficiently applying the same operation to every item in a collection, indicating a need for understanding basic iteration techniques in Python.\"}"
      ]
     },
     "execution_count": 45,
     "metadata": {},
     "output_type": "execute_result"
    }
   ],
   "source": [
    "'''With this example we can see how to turn the summary into a sigle message, thus reducing the necessary input tokens.'''\n",
    "graph.invoke({'messages':[HumanMessage(content=f\"Give an answer given the following summary: {output.values['summary']}\")]},config)"
   ]
  }
 ],
 "metadata": {
  "kernelspec": {
   "display_name": "Python 3",
   "language": "python",
   "name": "python3"
  },
  "language_info": {
   "codemirror_mode": {
    "name": "ipython",
    "version": 3
   },
   "file_extension": ".py",
   "mimetype": "text/x-python",
   "name": "python",
   "nbconvert_exporter": "python",
   "pygments_lexer": "ipython3",
   "version": "3.12.5"
  }
 },
 "nbformat": 4,
 "nbformat_minor": 2
}
