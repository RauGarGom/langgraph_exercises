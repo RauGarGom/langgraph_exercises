{
 "cells": [
  {
   "cell_type": "code",
   "execution_count": 34,
   "metadata": {},
   "outputs": [],
   "source": [
    "import os, getpass\n",
    "from dotenv import load_dotenv, find_dotenv\n",
    "from langchain_community.tools.tavily_search import TavilySearchResults\n",
    "from langchain_google_genai import ChatGoogleGenerativeAI\n",
    "from langgraph.graph import MessagesState\n",
    "from langchain_core.messages import HumanMessage, SystemMessage\n",
    "from langgraph.graph import START, StateGraph\n",
    "from langgraph.prebuilt import tools_condition\n",
    "from langgraph.prebuilt import ToolNode\n",
    "from IPython.display import Image, display\n",
    "\n",
    "\n",
    "load_dotenv(find_dotenv())\n",
    "os.environ[\"LANGCHAIN_PROJECT\"] = \"ex_module-1\"\n",
    "os.environ[\"LANGCHAIN_TRACING_V2\"] = \"true\"\n",
    "model = ChatGoogleGenerativeAI(model=\"gemini-1.5-pro\",temperature=0)"
   ]
  },
  {
   "cell_type": "markdown",
   "metadata": {},
   "source": [
    "# Introduction to LangGraph - Module 1 exercises"
   ]
  },
  {
   "cell_type": "markdown",
   "metadata": {},
   "source": [
    "## General Goals:\n",
    "Make a simple agent that can retrieve weather information, and make a rundown of the latest news. The agent must be able to decide when to use the given tools"
   ]
  },
  {
   "cell_type": "markdown",
   "metadata": {},
   "source": [
    "### 1.- Make a function that retrieves weather information from a weather API.\n",
    "\n",
    "Hint: I used [Openweather](https://openweathermap.org/api), but use whichever you want! \n"
   ]
  },
  {
   "cell_type": "code",
   "execution_count": 21,
   "metadata": {},
   "outputs": [],
   "source": [
    "import requests\n",
    "from typing import Dict\n",
    "from datetime import datetime\n",
    "\n",
    "def get_weather(city: str) -> Dict:\n",
    "    \"\"\"\n",
    "    Retrieve current weather information for a given city.\n",
    "    \n",
    "    Args:\n",
    "        city (str): Name of the city\n",
    "        \n",
    "    Returns:\n",
    "        Dict: Weather information including temperature, conditions, and humidity\n",
    "        \n",
    "    Raises:\n",
    "        Exception: If API request fails or city not found\n",
    "    \"\"\"\n",
    "    # API configuration\n",
    "    API_KEY = os.getenv(\"OPENWEATHER_API_KEY\")  # Replace with your OpenWeatherMap API key\n",
    "    BASE_URL = \"http://api.openweathermap.org/data/2.5/weather\"\n",
    "    \n",
    "    try:\n",
    "        ### Convert city to lat and lon with geocoding API\n",
    "        rs = requests.get(f\"http://api.openweathermap.org/geo/1.0/direct?q={city}&limit=1&appid={API_KEY}\").json()\n",
    "        lat = rs[0][\"lat\"]\n",
    "        lon = rs[0][\"lon\"]\n",
    "        ### Get weather information\n",
    "        # Build request parameters\n",
    "        params = {\n",
    "            'lat': lat,\n",
    "            'lon': lon,\n",
    "            'appid': API_KEY,\n",
    "            'units': 'metric'  # Use Celsius for temperature\n",
    "        }\n",
    "        \n",
    "        # Make API request\n",
    "        response = requests.get(BASE_URL, params=params)\n",
    "        response.raise_for_status()  # Raise exception for bad status codes\n",
    "        \n",
    "        # Parse response\n",
    "        data = response.json()\n",
    "        \n",
    "        # Extract and format relevant weather information\n",
    "        weather_info = {\n",
    "            'temperature': round(data['main']['temp'], 1),\n",
    "            'description': data['weather'][0]['description'],\n",
    "            'humidity': data['main']['humidity'],\n",
    "            'wind_speed': data['wind']['speed'],\n",
    "            'last_updated': datetime.fromtimestamp(data['dt']).strftime('%Y-%m-%d %H:%M:%S')\n",
    "        }\n",
    "        \n",
    "        return weather_info\n",
    "    \n",
    "    except requests.exceptions.HTTPError as e:\n",
    "        if response.status_code == 404:\n",
    "            raise Exception(f\"City '{city}' not found\")\n",
    "        else:\n",
    "            raise Exception(f\"API request failed: {str(e)}\")\n",
    "    except Exception as e:\n",
    "        raise Exception(f\"Error getting weather data: {str(e)}\")"
   ]
  },
  {
   "cell_type": "code",
   "execution_count": 23,
   "metadata": {},
   "outputs": [
    {
     "data": {
      "text/plain": [
       "{'temperature': 12.8,\n",
       " 'description': 'clear sky',\n",
       " 'humidity': 42,\n",
       " 'wind_speed': 5.36,\n",
       " 'last_updated': '2025-02-03 13:41:26'}"
      ]
     },
     "execution_count": 23,
     "metadata": {},
     "output_type": "execute_result"
    }
   ],
   "source": [
    "get_weather(\"Garbayuela\")"
   ]
  },
  {
   "cell_type": "markdown",
   "metadata": {},
   "source": [
    "### 2.- Make a function that retrieves the latest news about a given city.\n",
    "\n",
    "Hint: I used [Tavily](https://tavily.com/) but, again, choose as you wish."
   ]
  },
  {
   "cell_type": "code",
   "execution_count": 41,
   "metadata": {},
   "outputs": [],
   "source": [
    "def get_news(city: str) -> Dict:\n",
    "    '''\n",
    "    Tool to get the latest news about a given city.\n",
    "    \n",
    "    Args:\n",
    "        city (str): Name of the city\n",
    "        \n",
    "    Returns:\n",
    "        Dict: Latest news about the city\n",
    "    '''\n",
    "    search = TavilySearchResults(max_results=4)\n",
    "    return search.invoke(f\"News of today about the city of {city}\")"
   ]
  },
  {
   "cell_type": "code",
   "execution_count": 27,
   "metadata": {},
   "outputs": [
    {
     "data": {
      "text/plain": [
       "[{'url': 'https://turismolasiberia.juntaex.es/en/garbayuela',\n",
       "  'content': 'We also find in Garbayuela a bronze sculpture of recent creation, which represents a woman with a child in her arms. Made by the award-winning creator of'},\n",
       " {'url': 'https://play.google.com/store/apps/details?id=es.bandomovil.garbayuela.informa&hl=en_US',\n",
       "  'content': 'This tool will allow you to be immediately informed of the news, developments and events that occur in your city, regardless of where you are.'},\n",
       " {'url': 'https://properties.lefigaro.com/announces/luxury-real+estate-extremadura-spain/?ville=garbayuela',\n",
       "  'content': 'Discover Real Estate listings of Luxury Properties for Sale in Garbayuela and Find the one of your Dreams! The most beautiful Holiday Properties for Sale in'},\n",
       " {'url': 'https://www.companyspace.com/property-statistics/new-premises-development/spain/warehouses/garbayuela',\n",
       "  'content': 'On this property statistics page, you can see the development of the number of new available commercial rentals of the type warehouse in Garbayuela.'}]"
      ]
     },
     "execution_count": 27,
     "metadata": {},
     "output_type": "execute_result"
    }
   ],
   "source": [
    "get_news(\"Garbayuela\")"
   ]
  },
  {
   "cell_type": "markdown",
   "metadata": {},
   "source": [
    "### 3.- Setup the LLM with the tools. Include a system message to the LLM to use the tools as necessary and to set the proper behavior."
   ]
  },
  {
   "cell_type": "code",
   "execution_count": 42,
   "metadata": {},
   "outputs": [
    {
     "name": "stderr",
     "output_type": "stream",
     "text": [
      "Key 'title' is not supported in schema, ignoring\n",
      "Key 'title' is not supported in schema, ignoring\n"
     ]
    }
   ],
   "source": [
    "model = ChatGoogleGenerativeAI(model=\"gemini-1.5-pro\",temperature=0)\n",
    "tools = [get_weather, get_news]\n",
    "model_with_tools = model.bind_tools(tools)\n"
   ]
  },
  {
   "cell_type": "markdown",
   "metadata": {},
   "source": [
    "### 4.- Make a system message to the LLM to use the tools as needed and to set the proper behavior, and create the initial node as a function."
   ]
  },
  {
   "cell_type": "code",
   "execution_count": 43,
   "metadata": {},
   "outputs": [],
   "source": [
    "sys_msg = SystemMessage(content='''You are a helpful assistant that can retrieve weather information and news about a given city. If the user\n",
    "                        asks for anything else, respond with \"I'm sorry, but I can only provide weather and news information.\"''')\n",
    "\n",
    "def initial_node(state: MessagesState):\n",
    "    return {\"messages\": [model_with_tools.invoke([sys_msg] + state[\"messages\"])]}"
   ]
  },
  {
   "cell_type": "markdown",
   "metadata": {},
   "source": [
    "### 5.- Build the graph with the initial node and the tools condition.\n"
   ]
  },
  {
   "cell_type": "code",
   "execution_count": 44,
   "metadata": {},
   "outputs": [
    {
     "data": {
      "image/png": "[encoded data removed]",
      "text/plain": [
       "<IPython.core.display.Image object>"
      ]
     },
     "metadata": {},
     "output_type": "display_data"
    }
   ],
   "source": [
    "builder = StateGraph(MessagesState)\n",
    "\n",
    "### Nodes\n",
    "builder.add_node(\"initial_node\", initial_node)\n",
    "builder.add_node(\"tools\", ToolNode(tools))\n",
    "\n",
    "### Edges\n",
    "builder.add_edge(START, \"initial_node\")\n",
    "builder.add_conditional_edges(\"initial_node\", tools_condition) ### TODO: Understand properly\n",
    "builder.add_edge(\"tools\", \"initial_node\")\n",
    "\n",
    "### Compile and display\n",
    "react_graph = builder.compile()\n",
    "display(Image(react_graph.get_graph(xray=True).draw_mermaid_png()))"
   ]
  },
  {
   "cell_type": "markdown",
   "metadata": {},
   "source": [
    "### 6.- Give the graph a try!"
   ]
  },
  {
   "cell_type": "code",
   "execution_count": 45,
   "metadata": {},
   "outputs": [
    {
     "name": "stdout",
     "output_type": "stream",
     "text": [
      "================================\u001b[1m Human Message \u001b[0m=================================\n",
      "\n",
      "Tell me about the weather and latest news in Madrid\n",
      "==================================\u001b[1m Ai Message \u001b[0m==================================\n",
      "Tool Calls:\n",
      "  get_weather (31aa5ac8-6546-4b07-89f9-a32a1bab5a1a)\n",
      " Call ID: 31aa5ac8-6546-4b07-89f9-a32a1bab5a1a\n",
      "  Args:\n",
      "    city: Madrid\n",
      "  get_news (792749df-11b8-4222-899b-e9ccc11bfa93)\n",
      " Call ID: 792749df-11b8-4222-899b-e9ccc11bfa93\n",
      "  Args:\n",
      "    city: Madrid\n",
      "=================================\u001b[1m Tool Message \u001b[0m=================================\n",
      "Name: get_weather\n",
      "\n",
      "{\"temperature\": 9.8, \"description\": \"clear sky\", \"humidity\": 51, \"wind_speed\": 2.57, \"last_updated\": \"2025-02-03 13:55:41\"}\n",
      "=================================\u001b[1m Tool Message \u001b[0m=================================\n",
      "Name: get_news\n",
      "\n",
      "[{\"url\": \"https://apnews.com/hub/madrid\", \"content\": \"(Chema Moya, Pool photo via AP)](https://dims.apnews.com/dims4/default/eb1b474/2147483647/strip/true/crop/2342x1561+0+0/resize/567x378!/quality/90/?url=https%3A%2F%2Fassets.apnews.com%2F2a%2F56%2Fd01612a7668ccce397f10b662cca%2Fd66c080934a141d7917f4c34e35688ea)](https://apnews.com/article/fifa-luis-rubiales-soccer-spain-kiss-66d2c36fe4ebb9f7989de6d2f79dcafe) (AP Photo/Dave Shopland, File)](https://dims.apnews.com/dims4/default/bad178e/2147483647/strip/true/crop/8640x5755+0+2/resize/599x399!/quality/90/?url=https%3A%2F%2Fassets.apnews.com%2F90%2Fa4%2F7a5b09eeec56c9a6f80708ab7068%2Ffbe96ef461584ae3851129420f85ca5d)](https://apnews.com/article/real-madrid-rudiger-injury-42fdfcecea6be83485d20a0dc1ad3a48) (AP Photo/Dave Thompson, File)](https://dims.apnews.com/dims4/default/ba476c9/2147483647/strip/true/crop/3056x2036+0+1/resize/599x399!/quality/90/?url=https%3A%2F%2Fassets.apnews.com%2F95%2F9a%2F362235d5cc90fbc14777e33c8b94%2F39039e7107fb4d1486745c9fee110e6d)](https://apnews.com/article/champions-league-draw-real-madrid-man-city-10f3e262c5d2d7225cf1b6b982d82ef1) (Mike Egerton/PA via AP)](https://dims.apnews.com/dims4/default/3e88d3b/2147483647/strip/true/crop/2317x1543+0+0/resize/599x399!/quality/90/?url=https%3A%2F%2Fassets.apnews.com%2Fdf%2Fab%2Fbe8f7f2cbb50125953f1c827d0a1%2Fa6fada43845143bc8c9610caa0584d47)](https://apnews.com/article/champions-league-knockout-playoffs-draw-city-madrid-bayern-b73605fcc2b1787b04f2232db306e842) (AP Photo/Thibault Camus)](https://dims.apnews.com/dims4/default/648a7bb/2147483647/strip/true/crop/6938x4621+0+2/resize/599x399!/quality/90/?url=https%3A%2F%2Fassets.apnews.com%2F6b%2F4c%2Ff18ebc56bc2b0433c5eb8307d2b3%2Feb3613ac3b06458da149a5e967819c0c)](https://apnews.com/article/real-madrid-liga-champions-league-997fd5a461a5906df7891dd605846cfc) (AP Photo/Thibault Camus)](https://dims.apnews.com/dims4/default/0500b2e/2147483647/strip/true/crop/3962x2639+0+1/resize/599x399!/quality/90/?url=https%3A%2F%2Fassets.apnews.com%2F33%2F7a%2F70269b17f7bb00587617cb3a2344%2F85d523789bf64062adb552f9745cee0d)](https://apnews.com/article/rodrygo-real-madrid-champions-league-34730593928acfd8b6067c59b5578fa3) (AP Photo/Bernat Armangue)](https://dims.apnews.com/dims4/default/5b18162/2147483647/strip/true/crop/5924x3946+0+2/resize/599x399!/quality/90/?url=https%3A%2F%2Fassets.apnews.com%2F61%2Fe3%2F357fec4680c8208991c124b16d0d%2Fd6b00bb19e8343b296527a47f8816f62)](https://apnews.com/article/mbappe-real-madrid-6b1416962af795ed820255542a52c9e1) [![Image 10: Real Madrid's Kylian Mbappe celebrates after scoring a goal against Las Palmas during a Spanish La Liga soccer match at the Santiago Bernabeu Stadium in Madrid, Spain, Sunday, Jan. 19, 2025. (AP Photo/Bernat Armangue)](https://dims.apnews.com/dims4/default/9b1a6f2/2147483647/strip/true/crop/6344x4226+0+2/resize/599x399!/quality/90/?url=https%3A%2F%2Fassets.apnews.com%2F4e%2F75%2Fb13eaa1bf45ee64ca2ed859fc8e0%2Fd95e17249e9e41fc9014301ed20d4004)](https://apnews.com/article/mbappe-real-madrid-las-palmas-spanish-league-e54070b6a980efe48409656331fc981f) (AP Photo/Manu Fernandez)](https://dims.apnews.com/dims4/default/6f81a69/2147483647/strip/true/crop/5967x3975+0+2/resize/599x399!/quality/90/?url=https%3A%2F%2Fassets.apnews.com%2F38%2F6f%2Fb5f15a26e300cb70c34786a11950%2Ff2dbcb84af9349d6b659f84868f39081)](https://apnews.com/article/spain-horses-fire-las-luminarias-festival-tradition-7236dc950070a73cc721579264530996) (AP Photo/Altaf Qadri)](https://dims.apnews.com/dims4/default/a12678a/2147483647/strip/true/crop/7390x4923+0+2/resize/599x399!/quality/90/?url=https%3A%2F%2Fassets.apnews.com%2F7a%2F45%2F7d3144c348a6e42f307d41d21e5d%2Fedc88d888f11445fb91d90393f5943c2)](https://apnews.com/article/clasico-barcelona-real-madrid-atletico-super-cup-5398b0d9176ead7fb44d25902137f236) (AP Photo/Altaf Qadri)](https://dims.apnews.com/dims4/default/565c065/2147483647/strip/true/crop/3587x2389+0+1/resize/599x399!/quality/90/?url=https%3A%2F%2Fassets.apnews.com%2F7c%2Fb9%2Fbbaca956663d16e38a51c9ce4239%2Fc767e75394e34b669b9586e9d52ceaa7)](https://apnews.com/article/real-madrid-bellingham-mallorca-spanish-super-cup-7856f2601b4a304f7c527a12ed15d3f2) (AP Photo/Evan Vucci, File)](https://dims.apnews.com/dims4/default/01edee7/2147483647/strip/true/crop/3879x2584+0+4/resize/599x399!/quality/90/?url=https%3A%2F%2Fassets.apnews.com%2F0e%2Fab%2F0362f441df167d5c3f0eeff490bd%2F5d3e4492d5354e4391236358524507b2)](https://apnews.com/article/elon-musk-spain-prime-minister-criticism-33dea20221546870428cf4fc35d8e7e2) (AP Photo/Kirsty Wigglesworth)](https://dims.apnews.com/dims4/default/657d25d/2147483647/strip/true/crop/3216x2142+0+1/resize/599x399!/quality/90/?url=https%3A%2F%2Fassets.apnews.com%2Fe9%2F5c%2F2e03d238137d18b0d03160478ff3%2F44dbddf5c55c480fb4399ff698edab13)](https://apnews.com/article/trent-alexander-arnold-liverpool-real-madrid-slot-464a4cbca8f7f857277ad26794f9588b) (AP Photo/Manu Fernandez)](https://dims.apnews.com/dims4/default/fec26ca/2147483647/strip/true/crop/7988x5321+0+2/resize/599x399!/quality/90/?url=https%3A%2F%2Fassets.apnews.com%2F37%2Fd9%2F675891d4ccb6e731f64da394fa36%2Fa5e7a501ccf34a79952409c90a42f2c0)](https://apnews.com/article/real-madrid-rayo-jesus-navas-afbc8f756edcc1228dc81ea94454a9e8) (AP Photo/Antonio Calanni)](https://dims.apnews.com/dims4/default/e994798/2147483647/strip/true/crop/5661x3771+0+2/resize/599x399!/quality/90/?url=https%3A%2F%2Fassets.apnews.com%2F05%2Fb5%2F6f9d9d860ed979bc14b1b84b884d%2F94a07d6f57f44b94921ab0b4be377249)](https://apnews.com/article/mbappe-injury-thigh-real-madrid-dcb3b30ca28caee8c73ab0011d5fe19e) (AP Photo/Miguel Oses)](https://dims.apnews.com/dims4/default/e425f50/2147483647/strip/true/crop/4666x3108+0+1/resize/599x399!/quality/90/?url=https%3A%2F%2Fassets.apnews.com%2F8c%2Fbc%2F93adcc713d930a19afcb7bbb7576%2Ff4cc8accc5e848c2aa7a82d3cb9cc4a2)](https://apnews.com/article/real-madrid-psg-man-city-champions-league-df3ab2d612a250767cc4a893fba6e369) (AP Photo/Hassan Ammar, file)](https://dims.apnews.com/dims4/default/ed66a53/2147483647/strip/true/crop/8640x5755+0+2/resize/599x399!/quality/90/?url=https%3A%2F%2Fassets.apnews.com%2Fb1%2Fed%2F9d3676c1b084b222f6ecc55e5298%2F925b829e2f334de1aecc8dbfa9af9d36)](https://apnews.com/article/mbappe-france-real-madrid-f039f284d30173c98e937964ce934fa4) (AP Photo/Miguel Oses)](https://dims.apnews.com/dims4/default/76a61cd/2147483647/strip/true/crop/2519x1678+0+1/resize/599x399!/quality/90/?url=https%3A%2F%2Fassets.apnews.com%2F86%2F4d%2Fc998d5aa5521520515fc5f6fa0a6%2Fb95e6f521c0b4c8192bd2c60a9749fb5)](https://apnews.com/article/ancelotti-mbappe-real-madrid-struggles-girona-d0cb0baff3ff0863835d4482fa526276) (AP Photo/Darko Vojinovic, File)](https://dims.apnews.com/dims4/default/00ee9cd/2147483647/strip/true/crop/5613x3739+0+2/resize/599x399!/quality/90/?url=https%3A%2F%2Fassets.apnews.com%2F0c%2F80%2F6d113faa28d99e19ae05fd953f4e%2Fc983f0f72432458e9d452ae76df65d99)](https://apnews.com/article/pedro-sanchez-spain-corruption-7f9d7a1370dca08a27a4e26dc1c78fe0) (AP Photo/Bernat Armangue)](https://dims.apnews.com/dims4/default/79a74e6/2147483647/strip/true/crop/2908x1937+0+2/resize/599x399!/quality/90/?url=https%3A%2F%2Fassets.apnews.com%2Fa9%2Fc4%2F313143cc7060850b02e75dcc816e%2F982612542b114eb686621ca297a7dafd)](https://apnews.com/article/real-madrid-mbappe-bellingham-scores-6a46532ce926ca986fe3a15f5cb9fed3) (AP Photo/Jon Super)](https://dims.apnews.com/dims4/default/c685c91/2147483647/strip/true/crop/4865x3241+0+1/resize/599x399!/quality/90/?url=https%3A%2F%2Fassets.apnews.com%2F77%2F3f%2Fc12e52c4ce074637c79e8ab88365%2F953acc13d0cd4f5ca303b60c05823433)](https://apnews.com/article/mbappe-real-madrid-spanish-liga-preview-034b962fbfc740bfe9d6652b6c779b76) (AP Photo/Manu Fernandez)](https://dims.apnews.com/dims4/default/629420f/2147483647/strip/true/crop/4004x2667+0+1/resize/599x399!/quality/90/?url=https%3A%2F%2Fassets.apnews.com%2F03%2Fa6%2Ff81db7a9e1620221c2f88b84d59b%2Fc709bb8542154666960ff8565f0284b4)](https://apnews.com/article/real-madrid-barcelona-clasico-c703523a420674bc0f1c829c31bc87d9) (AP Photo/Darko Vojinovic, file)](https://dims.apnews.com/dims4/default/62723c4/2147483647/strip/true/crop/8640x5755+0+2/resize/599x399!/quality/90/?url=https%3A%2F%2Fassets.apnews.com%2Fb6%2F7f%2F2891839a16e0566baded2d719d90%2Fc7bbc745ac99423d93f8c0c743af1acd)](https://apnews.com/article/madrid-barcelona-clasico-mbappe-flick-8484e05c2b37b6fac764d7c6f0a3540d) (AP Photo/Bernat Armangue)](https://dims.apnews.com/dims4/default/69512ed/2147483647/strip/true/crop/3592x2393+0+1/resize/599x399!/quality/90/?url=https%3A%2F%2Fassets.apnews.com%2F8b%2F81%2Fa8af6da8cb6350474f0c4bf096bd%2F5cdaf9386e0e4870a13bcd29e1f77dc3)](https://apnews.com/article/madrid-villarreal-liga-carvajal-719ce6978de175df11295ecbb201775e) (AP Photo/Thibault Camus)](https://dims.apnews.com/dims4/default/d0d563d/2147483647/strip/true/crop/2291x1526+0+0/resize/599x399!/quality/90/?url=https%3A%2F%2Fassets.apnews.com%2Fe1%2Ff6%2F495d3dcc77da6cdc0eeb2dcc3fed%2Faed5f662c05b41eea5f1da35632e4348)](https://apnews.com/article/madrid-loss-lille-villarreal-ancelotti-1f0e14bdac57882b0186fc57eb359a9e) (AP Photo/Bernat Armangue)](https://dims.apnews.com/dims4/default/1766221/2147483647/strip/true/crop/6625x4413+0+2/resize/599x399!/quality/90/?url=https%3A%2F%2Fassets.apnews.com%2F52%2Fd8%2Fc5dc9cf287581eed0dab4d07094f%2F0e22e9e785144c88be53aeae4bccd567)](https://apnews.com/article/real-madrid-atletico-spanish-league-80584332e3a5c42c1ed822db97ebc90a) (Fernando Calvo, Spanish Government via AP)](https://dims.apnews.com/dims4/default/2d6beac/2147483647/strip/true/crop/3993x2660+3+0/resize/599x399!/quality/90/?url=https%3A%2F%2Fassets.apnews.com%2Fe7%2F0b%2Ffdf34756f3bbda10348bee235f00%2F680f022799ce4ca9967204b059d1fd87)](https://apnews.com/article/venezuela-spain-edmundo-gonzalez-pedro-sanchez-4954082f7e0e3202bb06fb0d3b890599) (AP Photo/Pablo Garcia)](https://dims.apnews.com/dims4/default/dccf206/2147483647/strip/true/crop/3097x2063+0+1/resize/599x399!/quality/90/?url=https%3A%2F%2Fassets.apnews.com%2Fcb%2F09%2Fc8250bda7966de0a887b468e8b34%2F490630c7fc85447fa8119e1824c8d04d)](https://apnews.com/article/vinicius-junior-racism-spain-2030-world-cup-82ac60a48acf6e3fa73236b1eaa01cb3) (AP Photo/Andrea Comas)](https://dims.apnews.com/dims4/default/1acf5fa/2147483647/strip/true/crop/2591x1726+0+1/resize/599x399!/quality/90/?url=https%3A%2F%2Fassets.apnews.com%2F87%2F97%2Fdf04fab512c1d67f065ccbbaaccb%2F64b0d418e338499da83ffad83436cee5)](https://apnews.com/article/real-madrid-mbappe-atalanta-uefa-super-cup-8a17aef617ebce1ec9db37f02b04361b) (AP Photo/Paul White)](https://dims.apnews.com/dims4/default/c4e1848/2147483647/strip/true/crop/6245x4160+0+2/resize/599x399!/quality/90/?url=https%3A%2F%2Fassets.apnews.com%2F44%2Fef%2Fa80ddbf33f156e0a6eb52d06a1af%2F46cf3916b8864ae3879e20a1dd375786)](https://apnews.com/article/pride-week-madrid-high-heels-race-photos-d095e117cac3cea8406e47453bf95d05)\"}, {\"url\": \"https://www.the-independent.com/topic/madrid\", \"content\": \"Madrid - latest news, breaking stories and comment - The Independent Spain says over 550 migrants reached its Canary Islands in 2 days Spain sets a new record with 94 million international tourists last year Spain sets a new record with 94 million international tourists last year More than 10,000 migrants died this year trying to reach Spain by sea, aid group says More than 10,000 migrants died this year trying to reach Spain by sea, aid group says Florida man's US charges upgraded to killing his estranged wife in Spain Spain searches for bodies after flood of the century claims at least 95 lives Watch: Spain celebrates winning Euro 2024 with parade in Madrid Watch: Euro 2024 winners Spain arrive in Madrid ahead of parade\"}, {\"url\": \"https://www.standard.co.uk/topic/madrid\", \"content\": \"Helicopter hits car in Madrid after crashing on motorway ring road · Police investigating possible Iran link to ex-politician's shooting ; Spanish conservative\"}, {\"url\": \"https://ground.news/interest/madrid\", \"content\": \"Stay current with all the latest and breaking news about Madrid, Spain ... Real Madrid to face Man City in Champions League playoffs, PSG drawn against Brest.\"}]\n",
      "==================================\u001b[1m Ai Message \u001b[0m==================================\n",
      "\n",
      "The weather in Madrid is clear with a temperature of 9.8 degrees Celsius, 51% humidity, and a wind speed of 2.57 m/s. The latest news about Madrid include articles about Real Madrid's performance in La Liga and Champions League, Kylian Mbappe's potential move to Real Madrid, and other news related to sports, politics, and culture in Madrid.  There are also articles about Spain in general, such as migrant arrivals in the Canary Islands and the country's tourism records.\n"
     ]
    }
   ],
   "source": [
    "messages = [HumanMessage(content=\"Tell me about the weather and latest news in Madrid\")]\n",
    "messages = react_graph.invoke({\"messages\": messages})\n",
    "for m in messages['messages']:\n",
    "    m.pretty_print()"
   ]
  },
  {
   "cell_type": "code",
   "execution_count": 52,
   "metadata": {},
   "outputs": [
    {
     "data": {
      "text/plain": [
       "\"The weather in Madrid is clear with a temperature of 9.8 degrees Celsius, 51% humidity, and a wind speed of 2.57 m/s. The latest news about Madrid include articles about Real Madrid's performance in La Liga and Champions League, Kylian Mbappe's potential move to Real Madrid, and other news related to sports, politics, and culture in Madrid.  There are also articles about Spain in general, such as migrant arrivals in the Canary Islands and the country's tourism records.\""
      ]
     },
     "execution_count": 52,
     "metadata": {},
     "output_type": "execute_result"
    }
   ],
   "source": [
    "messages[\"messages\"][-1].content"
   ]
  }
 ],
 "metadata": {
  "kernelspec": {
   "display_name": "lc-academy-env",
   "language": "python",
   "name": "python3"
  },
  "language_info": {
   "codemirror_mode": {
    "name": "ipython",
    "version": 3
   },
   "file_extension": ".py",
   "mimetype": "text/x-python",
   "name": "python",
   "nbconvert_exporter": "python",
   "pygments_lexer": "ipython3",
   "version": "3.12.5"
  }
 },
 "nbformat": 4,
 "nbformat_minor": 2
}
